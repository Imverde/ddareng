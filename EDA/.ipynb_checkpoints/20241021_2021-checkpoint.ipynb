{
 "cells": [
  {
   "cell_type": "markdown",
   "id": "165beb4b-da78-4e06-bc1b-71db7b0e4c30",
   "metadata": {},
   "source": [
    "## 서울특별시 공공자전거 대여소별 이용정보(시간대별) 파일 불러오기"
   ]
  },
  {
   "cell_type": "code",
   "execution_count": 56,
   "id": "1a69233a-a1e2-42bd-9222-2b67b2cac372",
   "metadata": {},
   "outputs": [],
   "source": [
    "import pandas as pd\n",
    "# 사용자 정의함수 경로 설정\n",
    "import sys\n",
    "sys.path.append(\"G:/내 드라이브/Source/_Custom_Function\")\n",
    "# 사용자 정의함수 불러오기\n",
    "\n",
    "import time\n",
    "\n",
    "import ExcelFile_Read as er"
   ]
  },
  {
   "cell_type": "markdown",
   "id": "8b07b2c0-4ea6-4441-b82d-e436b064e2ca",
   "metadata": {},
   "source": [
    "## 1. 2021년"
   ]
  },
  {
   "cell_type": "code",
   "execution_count": 58,
   "id": "b02af031-d6b1-4bdd-8108-5b307a1b1667",
   "metadata": {},
   "outputs": [],
   "source": [
    "path_dateset = 'G:/내 드라이브/DataSet/'\n",
    "path_sub = '_최종 병합 파일/서울특별시 공공자전거 대여소별 이용정보(시간대별)/서울특별시 공공자전거 대여소별 이용정보(시간대별)_2021.csv'\n",
    "\n",
    "file_path = path_dateset + path_sub"
   ]
  },
  {
   "cell_type": "code",
   "execution_count": 60,
   "id": "1af48e01-75d3-4a14-8f10-7b52c6f154d9",
   "metadata": {},
   "outputs": [
    {
     "name": "stdout",
     "output_type": "stream",
     "text": [
      "time : 0.04325580596923828\n"
     ]
    }
   ],
   "source": [
    "start_time = time.time()  # 시작 시간 저장\n",
    "\n",
    "_dtype={'이용건수': 'object',\n",
    "       '운동량': 'object',\n",
    "       '탄소량': 'object',\n",
    "       '성별': 'object'}\n",
    "df_rtn = er.Read_dask(file_path, _dtype)\n",
    "\n",
    "\n",
    "df_rtn = er.Read_dask(file_path, _dtype)\n",
    "print(\"time :\", time.time() - start_time) # 현재시간 - 시작시간"
   ]
  },
  {
   "cell_type": "code",
   "execution_count": 62,
   "id": "9fbf0e95-efaa-48cb-aa2c-f45867244b4c",
   "metadata": {},
   "outputs": [
    {
     "data": {
      "text/html": [
       "<div>\n",
       "<style scoped>\n",
       "    .dataframe tbody tr th:only-of-type {\n",
       "        vertical-align: middle;\n",
       "    }\n",
       "\n",
       "    .dataframe tbody tr th {\n",
       "        vertical-align: top;\n",
       "    }\n",
       "\n",
       "    .dataframe thead th {\n",
       "        text-align: right;\n",
       "    }\n",
       "</style>\n",
       "<table border=\"1\" class=\"dataframe\">\n",
       "  <thead>\n",
       "    <tr style=\"text-align: right;\">\n",
       "      <th></th>\n",
       "      <th>대여일자</th>\n",
       "      <th>대여시간</th>\n",
       "      <th>대여소번호</th>\n",
       "      <th>대여소명</th>\n",
       "      <th>대여구분코드</th>\n",
       "      <th>성별</th>\n",
       "      <th>연령대코드</th>\n",
       "      <th>이용건수</th>\n",
       "      <th>운동량</th>\n",
       "      <th>탄소량</th>\n",
       "      <th>이동거리(M)</th>\n",
       "      <th>이용시간(분)</th>\n",
       "    </tr>\n",
       "  </thead>\n",
       "  <tbody>\n",
       "    <tr>\n",
       "      <th>0</th>\n",
       "      <td>2021-01-01</td>\n",
       "      <td>0</td>\n",
       "      <td>1347</td>\n",
       "      <td>1347. 길음래미안아파트817동 상가 앞</td>\n",
       "      <td>정기권</td>\n",
       "      <td>NaN</td>\n",
       "      <td>~10대</td>\n",
       "      <td>2</td>\n",
       "      <td>28.90</td>\n",
       "      <td>0.23</td>\n",
       "      <td>992.78</td>\n",
       "      <td>13.0</td>\n",
       "    </tr>\n",
       "    <tr>\n",
       "      <th>1</th>\n",
       "      <td>2021-01-01</td>\n",
       "      <td>0</td>\n",
       "      <td>1349</td>\n",
       "      <td>1349. 월계2교 버스정류장 앞</td>\n",
       "      <td>정기권</td>\n",
       "      <td>NaN</td>\n",
       "      <td>~10대</td>\n",
       "      <td>1</td>\n",
       "      <td>34.38</td>\n",
       "      <td>0.26</td>\n",
       "      <td>1127.5</td>\n",
       "      <td>10.0</td>\n",
       "    </tr>\n",
       "    <tr>\n",
       "      <th>2</th>\n",
       "      <td>2021-01-01</td>\n",
       "      <td>0</td>\n",
       "      <td>1168</td>\n",
       "      <td>1168. 마곡엠밸리10단지 앞</td>\n",
       "      <td>정기권</td>\n",
       "      <td>NaN</td>\n",
       "      <td>~10대</td>\n",
       "      <td>1</td>\n",
       "      <td>0.00</td>\n",
       "      <td>0.00</td>\n",
       "      <td>0.0</td>\n",
       "      <td>7.0</td>\n",
       "    </tr>\n",
       "    <tr>\n",
       "      <th>3</th>\n",
       "      <td>2021-01-01</td>\n",
       "      <td>0</td>\n",
       "      <td>2619</td>\n",
       "      <td>2619. 석촌고분역 4번출구</td>\n",
       "      <td>정기권</td>\n",
       "      <td>NaN</td>\n",
       "      <td>~10대</td>\n",
       "      <td>1</td>\n",
       "      <td>38.75</td>\n",
       "      <td>0.38</td>\n",
       "      <td>1658.34</td>\n",
       "      <td>14.0</td>\n",
       "    </tr>\n",
       "    <tr>\n",
       "      <th>4</th>\n",
       "      <td>2021-01-01</td>\n",
       "      <td>0</td>\n",
       "      <td>536</td>\n",
       "      <td>536. 행당역 2번출구 앞</td>\n",
       "      <td>정기권</td>\n",
       "      <td>NaN</td>\n",
       "      <td>~10대</td>\n",
       "      <td>1</td>\n",
       "      <td>12.96</td>\n",
       "      <td>0.17</td>\n",
       "      <td>743.88</td>\n",
       "      <td>5.0</td>\n",
       "    </tr>\n",
       "  </tbody>\n",
       "</table>\n",
       "</div>"
      ],
      "text/plain": [
       "         대여일자  대여시간  대여소번호                     대여소명 대여구분코드   성별 연령대코드 이용건수  \\\n",
       "0  2021-01-01     0   1347  1347. 길음래미안아파트817동 상가 앞    정기권  NaN  ~10대    2   \n",
       "1  2021-01-01     0   1349       1349. 월계2교 버스정류장 앞    정기권  NaN  ~10대    1   \n",
       "2  2021-01-01     0   1168        1168. 마곡엠밸리10단지 앞    정기권  NaN  ~10대    1   \n",
       "3  2021-01-01     0   2619         2619. 석촌고분역 4번출구    정기권  NaN  ~10대    1   \n",
       "4  2021-01-01     0    536          536. 행당역 2번출구 앞    정기권  NaN  ~10대    1   \n",
       "\n",
       "     운동량   탄소량  이동거리(M)  이용시간(분)  \n",
       "0  28.90  0.23   992.78     13.0  \n",
       "1  34.38  0.26   1127.5     10.0  \n",
       "2   0.00  0.00      0.0      7.0  \n",
       "3  38.75  0.38  1658.34     14.0  \n",
       "4  12.96  0.17   743.88      5.0  "
      ]
     },
     "execution_count": 62,
     "metadata": {},
     "output_type": "execute_result"
    }
   ],
   "source": [
    "df_rtn.head()"
   ]
  },
  {
   "cell_type": "code",
   "execution_count": 64,
   "id": "e8610afd-dfb5-4223-8a06-abbc09678ad5",
   "metadata": {},
   "outputs": [],
   "source": [
    "df_rtn = df_rtn.compute()"
   ]
  },
  {
   "cell_type": "code",
   "execution_count": 66,
   "id": "83849dd9-7a52-4d08-a4e2-b02308ca5e71",
   "metadata": {},
   "outputs": [],
   "source": [
    "df_rtn = df_rtn[['대여일자', '대여시간', '대여소번호', '대여소명', '이용건수', '이동거리(M)', '이용시간(분)']]"
   ]
  },
  {
   "cell_type": "code",
   "execution_count": 68,
   "id": "d2d99934-e983-421a-a4dc-9ca3dad70e8f",
   "metadata": {},
   "outputs": [
    {
     "data": {
      "text/html": [
       "<div>\n",
       "<style scoped>\n",
       "    .dataframe tbody tr th:only-of-type {\n",
       "        vertical-align: middle;\n",
       "    }\n",
       "\n",
       "    .dataframe tbody tr th {\n",
       "        vertical-align: top;\n",
       "    }\n",
       "\n",
       "    .dataframe thead th {\n",
       "        text-align: right;\n",
       "    }\n",
       "</style>\n",
       "<table border=\"1\" class=\"dataframe\">\n",
       "  <thead>\n",
       "    <tr style=\"text-align: right;\">\n",
       "      <th></th>\n",
       "      <th>대여일자</th>\n",
       "      <th>대여시간</th>\n",
       "      <th>대여소번호</th>\n",
       "      <th>대여소명</th>\n",
       "      <th>이용건수</th>\n",
       "      <th>이동거리(M)</th>\n",
       "      <th>이용시간(분)</th>\n",
       "    </tr>\n",
       "  </thead>\n",
       "  <tbody>\n",
       "    <tr>\n",
       "      <th>0</th>\n",
       "      <td>2021-01-01</td>\n",
       "      <td>0</td>\n",
       "      <td>1347</td>\n",
       "      <td>1347. 길음래미안아파트817동 상가 앞</td>\n",
       "      <td>2</td>\n",
       "      <td>992.78</td>\n",
       "      <td>13.0</td>\n",
       "    </tr>\n",
       "    <tr>\n",
       "      <th>1</th>\n",
       "      <td>2021-01-01</td>\n",
       "      <td>0</td>\n",
       "      <td>1349</td>\n",
       "      <td>1349. 월계2교 버스정류장 앞</td>\n",
       "      <td>1</td>\n",
       "      <td>1127.5</td>\n",
       "      <td>10.0</td>\n",
       "    </tr>\n",
       "    <tr>\n",
       "      <th>2</th>\n",
       "      <td>2021-01-01</td>\n",
       "      <td>0</td>\n",
       "      <td>1168</td>\n",
       "      <td>1168. 마곡엠밸리10단지 앞</td>\n",
       "      <td>1</td>\n",
       "      <td>0.0</td>\n",
       "      <td>7.0</td>\n",
       "    </tr>\n",
       "    <tr>\n",
       "      <th>3</th>\n",
       "      <td>2021-01-01</td>\n",
       "      <td>0</td>\n",
       "      <td>2619</td>\n",
       "      <td>2619. 석촌고분역 4번출구</td>\n",
       "      <td>1</td>\n",
       "      <td>1658.34</td>\n",
       "      <td>14.0</td>\n",
       "    </tr>\n",
       "    <tr>\n",
       "      <th>4</th>\n",
       "      <td>2021-01-01</td>\n",
       "      <td>0</td>\n",
       "      <td>536</td>\n",
       "      <td>536. 행당역 2번출구 앞</td>\n",
       "      <td>1</td>\n",
       "      <td>743.88</td>\n",
       "      <td>5.0</td>\n",
       "    </tr>\n",
       "  </tbody>\n",
       "</table>\n",
       "</div>"
      ],
      "text/plain": [
       "         대여일자  대여시간  대여소번호                     대여소명 이용건수  이동거리(M)  이용시간(분)\n",
       "0  2021-01-01     0   1347  1347. 길음래미안아파트817동 상가 앞    2   992.78     13.0\n",
       "1  2021-01-01     0   1349       1349. 월계2교 버스정류장 앞    1   1127.5     10.0\n",
       "2  2021-01-01     0   1168        1168. 마곡엠밸리10단지 앞    1      0.0      7.0\n",
       "3  2021-01-01     0   2619         2619. 석촌고분역 4번출구    1  1658.34     14.0\n",
       "4  2021-01-01     0    536          536. 행당역 2번출구 앞    1   743.88      5.0"
      ]
     },
     "execution_count": 68,
     "metadata": {},
     "output_type": "execute_result"
    }
   ],
   "source": [
    "df_rtn.head()"
   ]
  },
  {
   "cell_type": "markdown",
   "id": "5efc9c75-c5cd-4d2a-9263-8a3832435a93",
   "metadata": {},
   "source": [
    "## 필요한 컬럼만 저장하기"
   ]
  },
  {
   "cell_type": "code",
   "execution_count": 70,
   "id": "99fe3a80-33c3-43fd-a620-8a325024351e",
   "metadata": {},
   "outputs": [],
   "source": [
    "path_dateset = 'G:/내 드라이브/DataSet/'\n",
    "path_sub = '_최종 병합 파일/서울특별시 공공자전거 대여소별 이용정보(시간대별)/'\n",
    "\n",
    "file_path = path_dateset + path_sub\n",
    "\n",
    "df_rtn.to_parquet(file_path + '시간대별_2021.parquet', index=False)"
   ]
  },
  {
   "cell_type": "markdown",
   "id": "d2aaa12e-cc2d-412a-9e3a-b84605e4598e",
   "metadata": {},
   "source": [
    "## 1) 데이터 구조파악"
   ]
  },
  {
   "cell_type": "code",
   "execution_count": 72,
   "id": "f04191c7-8c9f-445e-a282-1e44c29087db",
   "metadata": {},
   "outputs": [
    {
     "data": {
      "text/html": [
       "<div>\n",
       "<style scoped>\n",
       "    .dataframe tbody tr th:only-of-type {\n",
       "        vertical-align: middle;\n",
       "    }\n",
       "\n",
       "    .dataframe tbody tr th {\n",
       "        vertical-align: top;\n",
       "    }\n",
       "\n",
       "    .dataframe thead th {\n",
       "        text-align: right;\n",
       "    }\n",
       "</style>\n",
       "<table border=\"1\" class=\"dataframe\">\n",
       "  <thead>\n",
       "    <tr style=\"text-align: right;\">\n",
       "      <th></th>\n",
       "      <th>대여일자</th>\n",
       "      <th>대여시간</th>\n",
       "      <th>대여소번호</th>\n",
       "      <th>대여소명</th>\n",
       "      <th>이용건수</th>\n",
       "      <th>이동거리(M)</th>\n",
       "      <th>이용시간(분)</th>\n",
       "    </tr>\n",
       "  </thead>\n",
       "  <tbody>\n",
       "    <tr>\n",
       "      <th>0</th>\n",
       "      <td>2021-01-01</td>\n",
       "      <td>0</td>\n",
       "      <td>1347</td>\n",
       "      <td>1347. 길음래미안아파트817동 상가 앞</td>\n",
       "      <td>2</td>\n",
       "      <td>992.78</td>\n",
       "      <td>13.0</td>\n",
       "    </tr>\n",
       "    <tr>\n",
       "      <th>1</th>\n",
       "      <td>2021-01-01</td>\n",
       "      <td>0</td>\n",
       "      <td>1349</td>\n",
       "      <td>1349. 월계2교 버스정류장 앞</td>\n",
       "      <td>1</td>\n",
       "      <td>1127.5</td>\n",
       "      <td>10.0</td>\n",
       "    </tr>\n",
       "    <tr>\n",
       "      <th>2</th>\n",
       "      <td>2021-01-01</td>\n",
       "      <td>0</td>\n",
       "      <td>1168</td>\n",
       "      <td>1168. 마곡엠밸리10단지 앞</td>\n",
       "      <td>1</td>\n",
       "      <td>0.0</td>\n",
       "      <td>7.0</td>\n",
       "    </tr>\n",
       "    <tr>\n",
       "      <th>3</th>\n",
       "      <td>2021-01-01</td>\n",
       "      <td>0</td>\n",
       "      <td>2619</td>\n",
       "      <td>2619. 석촌고분역 4번출구</td>\n",
       "      <td>1</td>\n",
       "      <td>1658.34</td>\n",
       "      <td>14.0</td>\n",
       "    </tr>\n",
       "    <tr>\n",
       "      <th>4</th>\n",
       "      <td>2021-01-01</td>\n",
       "      <td>0</td>\n",
       "      <td>536</td>\n",
       "      <td>536. 행당역 2번출구 앞</td>\n",
       "      <td>1</td>\n",
       "      <td>743.88</td>\n",
       "      <td>5.0</td>\n",
       "    </tr>\n",
       "  </tbody>\n",
       "</table>\n",
       "</div>"
      ],
      "text/plain": [
       "         대여일자  대여시간  대여소번호                     대여소명 이용건수  이동거리(M)  이용시간(분)\n",
       "0  2021-01-01     0   1347  1347. 길음래미안아파트817동 상가 앞    2   992.78     13.0\n",
       "1  2021-01-01     0   1349       1349. 월계2교 버스정류장 앞    1   1127.5     10.0\n",
       "2  2021-01-01     0   1168        1168. 마곡엠밸리10단지 앞    1      0.0      7.0\n",
       "3  2021-01-01     0   2619         2619. 석촌고분역 4번출구    1  1658.34     14.0\n",
       "4  2021-01-01     0    536          536. 행당역 2번출구 앞    1   743.88      5.0"
      ]
     },
     "execution_count": 72,
     "metadata": {},
     "output_type": "execute_result"
    }
   ],
   "source": [
    "df_rtn.head()"
   ]
  },
  {
   "cell_type": "code",
   "execution_count": 74,
   "id": "6b7aba74-4a08-443c-a750-dc58c0ac6e55",
   "metadata": {},
   "outputs": [
    {
     "data": {
      "text/plain": [
       "(25421803, 7)"
      ]
     },
     "execution_count": 74,
     "metadata": {},
     "output_type": "execute_result"
    }
   ],
   "source": [
    "df_rtn.shape"
   ]
  },
  {
   "cell_type": "code",
   "execution_count": 76,
   "id": "721c9e55-96c5-4fef-abd3-e2852dd685cb",
   "metadata": {},
   "outputs": [
    {
     "name": "stdout",
     "output_type": "stream",
     "text": [
      "<class 'pandas.core.frame.DataFrame'>\n",
      "Index: 25421803 entries, 0 to 694627\n",
      "Data columns (total 7 columns):\n",
      " #   Column   Dtype  \n",
      "---  ------   -----  \n",
      " 0   대여일자     object \n",
      " 1   대여시간     int64  \n",
      " 2   대여소번호    int64  \n",
      " 3   대여소명     object \n",
      " 4   이용건수     object \n",
      " 5   이동거리(M)  float64\n",
      " 6   이용시간(분)  float64\n",
      "dtypes: float64(2), int64(2), object(3)\n",
      "memory usage: 1.5+ GB\n"
     ]
    }
   ],
   "source": [
    "df_rtn.info()"
   ]
  },
  {
   "cell_type": "code",
   "execution_count": 78,
   "id": "f105e6f2-096a-4c10-b98c-98e3320ed309",
   "metadata": {},
   "outputs": [
    {
     "data": {
      "text/plain": [
       "대여일자       25421803\n",
       "대여시간       25421803\n",
       "대여소번호      25421803\n",
       "대여소명       25421803\n",
       "이용건수       25421803\n",
       "이동거리(M)    25421789\n",
       "이용시간(분)    25421727\n",
       "dtype: int64"
      ]
     },
     "execution_count": 78,
     "metadata": {},
     "output_type": "execute_result"
    }
   ],
   "source": [
    "df_rtn.count() # 이동거리(M), 이용시간(분) : NULL값 존재한다."
   ]
  },
  {
   "cell_type": "code",
   "execution_count": 80,
   "id": "c7908cb3-e1e3-4d1f-af54-946dcccbbf27",
   "metadata": {},
   "outputs": [],
   "source": [
    "pd.options.display.float_format = '{:3}'.format"
   ]
  },
  {
   "cell_type": "code",
   "execution_count": 84,
   "id": "41cf0501-adb0-432e-aafb-c08e48192df3",
   "metadata": {},
   "outputs": [
    {
     "data": {
      "text/html": [
       "<div>\n",
       "<style scoped>\n",
       "    .dataframe tbody tr th:only-of-type {\n",
       "        vertical-align: middle;\n",
       "    }\n",
       "\n",
       "    .dataframe tbody tr th {\n",
       "        vertical-align: top;\n",
       "    }\n",
       "\n",
       "    .dataframe thead th {\n",
       "        text-align: right;\n",
       "    }\n",
       "</style>\n",
       "<table border=\"1\" class=\"dataframe\">\n",
       "  <thead>\n",
       "    <tr style=\"text-align: right;\">\n",
       "      <th></th>\n",
       "      <th>대여시간</th>\n",
       "      <th>대여소번호</th>\n",
       "      <th>이동거리(M)</th>\n",
       "      <th>이용시간(분)</th>\n",
       "    </tr>\n",
       "  </thead>\n",
       "  <tbody>\n",
       "    <tr>\n",
       "      <th>count</th>\n",
       "      <td>25421803.0</td>\n",
       "      <td>25421803.0</td>\n",
       "      <td>25421789.0</td>\n",
       "      <td>25421727.0</td>\n",
       "    </tr>\n",
       "    <tr>\n",
       "      <th>mean</th>\n",
       "      <td>14.5</td>\n",
       "      <td>1714.8</td>\n",
       "      <td>3094.5</td>\n",
       "      <td>28.4</td>\n",
       "    </tr>\n",
       "    <tr>\n",
       "      <th>std</th>\n",
       "      <td>5.5</td>\n",
       "      <td>1266.4</td>\n",
       "      <td>4375.3</td>\n",
       "      <td>33.5</td>\n",
       "    </tr>\n",
       "    <tr>\n",
       "      <th>min</th>\n",
       "      <td>0.0</td>\n",
       "      <td>3.0</td>\n",
       "      <td>0.0</td>\n",
       "      <td>0.0</td>\n",
       "    </tr>\n",
       "    <tr>\n",
       "      <th>25%</th>\n",
       "      <td>10.0</td>\n",
       "      <td>677.0</td>\n",
       "      <td>770.9</td>\n",
       "      <td>8.0</td>\n",
       "    </tr>\n",
       "    <tr>\n",
       "      <th>50%</th>\n",
       "      <td>16.0</td>\n",
       "      <td>1384.0</td>\n",
       "      <td>1679.0</td>\n",
       "      <td>16.0</td>\n",
       "    </tr>\n",
       "    <tr>\n",
       "      <th>75%</th>\n",
       "      <td>19.0</td>\n",
       "      <td>2431.0</td>\n",
       "      <td>3672.4</td>\n",
       "      <td>37.0</td>\n",
       "    </tr>\n",
       "    <tr>\n",
       "      <th>max</th>\n",
       "      <td>23.0</td>\n",
       "      <td>99999.0</td>\n",
       "      <td>4731983.6</td>\n",
       "      <td>2701.0</td>\n",
       "    </tr>\n",
       "  </tbody>\n",
       "</table>\n",
       "</div>"
      ],
      "text/plain": [
       "            대여시간      대여소번호    이동거리(M)    이용시간(분)\n",
       "count 25421803.0 25421803.0 25421789.0 25421727.0\n",
       "mean        14.5     1714.8     3094.5       28.4\n",
       "std          5.5     1266.4     4375.3       33.5\n",
       "min          0.0        3.0        0.0        0.0\n",
       "25%         10.0      677.0      770.9        8.0\n",
       "50%         16.0     1384.0     1679.0       16.0\n",
       "75%         19.0     2431.0     3672.4       37.0\n",
       "max         23.0    99999.0  4731983.6     2701.0"
      ]
     },
     "execution_count": 84,
     "metadata": {},
     "output_type": "execute_result"
    }
   ],
   "source": [
    "round(df_rtn.describe(), 1)"
   ]
  },
  {
   "cell_type": "code",
   "execution_count": 86,
   "id": "2aa369d3-0b83-4db7-bf3a-3030b99d3dd7",
   "metadata": {},
   "outputs": [
    {
     "data": {
      "text/plain": [
       "대여일자        0\n",
       "대여시간        0\n",
       "대여소번호       0\n",
       "대여소명        0\n",
       "이용건수        0\n",
       "이동거리(M)    14\n",
       "이용시간(분)    76\n",
       "dtype: int64"
      ]
     },
     "execution_count": 86,
     "metadata": {},
     "output_type": "execute_result"
    }
   ],
   "source": [
    "df_rtn.isnull().sum()"
   ]
  },
  {
   "cell_type": "markdown",
   "id": "a6d0be61-ea22-477f-a9d9-9b825117c28d",
   "metadata": {},
   "source": [
    "## 2) 필요한 컬럼 확인하기"
   ]
  },
  {
   "cell_type": "markdown",
   "id": "58375c3e-7ee4-4fd2-a4b1-72136aa18961",
   "metadata": {},
   "source": [
    "### - '이용건수'"
   ]
  },
  {
   "cell_type": "code",
   "execution_count": 88,
   "id": "b605fb04-0861-4d85-a191-16dac15ba974",
   "metadata": {},
   "outputs": [
    {
     "data": {
      "text/plain": [
       "이용건수\n",
       "1         20614051\n",
       "1.0        2287666\n",
       "2          1884267\n",
       "3           302055\n",
       "2.0         186032\n",
       "            ...   \n",
       "48.31            1\n",
       "31.63            1\n",
       "13.24            1\n",
       "168.37           1\n",
       "29               1\n",
       "Name: count, Length: 120, dtype: int64"
      ]
     },
     "execution_count": 88,
     "metadata": {},
     "output_type": "execute_result"
    }
   ],
   "source": [
    "df_rtn['이용건수'].value_counts() # 이용건수 -> object => int로 수정하기 "
   ]
  },
  {
   "cell_type": "code",
   "execution_count": 90,
   "id": "c1052a91-bb46-47b8-bd0d-7885e3b7ccfa",
   "metadata": {},
   "outputs": [
    {
     "data": {
      "text/html": [
       "<div>\n",
       "<style scoped>\n",
       "    .dataframe tbody tr th:only-of-type {\n",
       "        vertical-align: middle;\n",
       "    }\n",
       "\n",
       "    .dataframe tbody tr th {\n",
       "        vertical-align: top;\n",
       "    }\n",
       "\n",
       "    .dataframe thead th {\n",
       "        text-align: right;\n",
       "    }\n",
       "</style>\n",
       "<table border=\"1\" class=\"dataframe\">\n",
       "  <thead>\n",
       "    <tr style=\"text-align: right;\">\n",
       "      <th></th>\n",
       "      <th>대여일자</th>\n",
       "      <th>대여시간</th>\n",
       "      <th>대여소번호</th>\n",
       "      <th>대여소명</th>\n",
       "      <th>이용건수</th>\n",
       "      <th>이동거리(M)</th>\n",
       "      <th>이용시간(분)</th>\n",
       "    </tr>\n",
       "  </thead>\n",
       "  <tbody>\n",
       "    <tr>\n",
       "      <th>662346</th>\n",
       "      <td>2021-03-06</td>\n",
       "      <td>13</td>\n",
       "      <td>1628</td>\n",
       "      <td>1628. 노일초등학교 앞</td>\n",
       "      <td>48.31</td>\n",
       "      <td>13.0</td>\n",
       "      <td>NaN</td>\n",
       "    </tr>\n",
       "  </tbody>\n",
       "</table>\n",
       "</div>"
      ],
      "text/plain": [
       "              대여일자  대여시간  대여소번호            대여소명   이용건수  이동거리(M)  이용시간(분)\n",
       "662346  2021-03-06    13   1628  1628. 노일초등학교 앞  48.31     13.0      NaN"
      ]
     },
     "execution_count": 90,
     "metadata": {},
     "output_type": "execute_result"
    }
   ],
   "source": [
    "df_rtn[df_rtn['이용건수'] == '48.31']"
   ]
  },
  {
   "cell_type": "code",
   "execution_count": 92,
   "id": "fc99db71-ae29-4cd6-8ff2-d18cd0969a6c",
   "metadata": {},
   "outputs": [
    {
     "data": {
      "text/html": [
       "<div>\n",
       "<style scoped>\n",
       "    .dataframe tbody tr th:only-of-type {\n",
       "        vertical-align: middle;\n",
       "    }\n",
       "\n",
       "    .dataframe tbody tr th {\n",
       "        vertical-align: top;\n",
       "    }\n",
       "\n",
       "    .dataframe thead th {\n",
       "        text-align: right;\n",
       "    }\n",
       "</style>\n",
       "<table border=\"1\" class=\"dataframe\">\n",
       "  <thead>\n",
       "    <tr style=\"text-align: right;\">\n",
       "      <th></th>\n",
       "      <th>대여일자</th>\n",
       "      <th>대여시간</th>\n",
       "      <th>대여소번호</th>\n",
       "      <th>대여소명</th>\n",
       "      <th>이용건수</th>\n",
       "      <th>이동거리(M)</th>\n",
       "      <th>이용시간(분)</th>\n",
       "    </tr>\n",
       "  </thead>\n",
       "  <tbody>\n",
       "    <tr>\n",
       "      <th>89690</th>\n",
       "      <td>2021-02-02</td>\n",
       "      <td>18</td>\n",
       "      <td>314</td>\n",
       "      <td>314. ?뭏냘測鍮抉解?,정기권\"</td>\n",
       "      <td>\\N</td>\n",
       "      <td>53.0</td>\n",
       "      <td>NaN</td>\n",
       "    </tr>\n",
       "  </tbody>\n",
       "</table>\n",
       "</div>"
      ],
      "text/plain": [
       "             대여일자  대여시간  대여소번호                대여소명 이용건수  이동거리(M)  이용시간(분)\n",
       "89690  2021-02-02    18    314  314. ?뭏냘測鍮抉解?,정기권\"   \\N     53.0      NaN"
      ]
     },
     "execution_count": 92,
     "metadata": {},
     "output_type": "execute_result"
    }
   ],
   "source": [
    "df_rtn[df_rtn['이용건수'] == '\\\\N']"
   ]
  },
  {
   "cell_type": "markdown",
   "id": "5fc02c81-5691-4665-b453-b7e1d97f42c5",
   "metadata": {},
   "source": [
    "### 위의 이용건수가 null값인 행 삭제하기"
   ]
  },
  {
   "cell_type": "code",
   "execution_count": 115,
   "id": "252649b8-6067-485f-920f-57f749c22657",
   "metadata": {},
   "outputs": [],
   "source": [
    "df = df_rtn.drop(df_rtn[df_rtn['이용건수'] != '\\\\N'].index, axis=0)"
   ]
  },
  {
   "cell_type": "code",
   "execution_count": 117,
   "id": "4f62d039-1766-40d7-8efe-a3f2bcc512fe",
   "metadata": {},
   "outputs": [],
   "source": [
    "df = df_rtn.drop(89690, axis=0)"
   ]
  },
  {
   "cell_type": "code",
   "execution_count": 121,
   "id": "ad7caad5-8b77-45ab-b8c8-55c7991f22c7",
   "metadata": {},
   "outputs": [
    {
     "data": {
      "text/plain": [
       "대여일자       25421766\n",
       "대여시간       25421766\n",
       "대여소번호      25421766\n",
       "대여소명       25421766\n",
       "이용건수       25421766\n",
       "이동거리(M)    25421752\n",
       "이용시간(분)    25421691\n",
       "dtype: int64"
      ]
     },
     "execution_count": 121,
     "metadata": {},
     "output_type": "execute_result"
    }
   ],
   "source": [
    "df.count()"
   ]
  },
  {
   "cell_type": "code",
   "execution_count": 125,
   "id": "7eec3cc4-a7b9-4740-8358-9601549d81bd",
   "metadata": {},
   "outputs": [],
   "source": [
    "df = df_rtn.drop(df_rtn.index[89690], axis=0)"
   ]
  },
  {
   "cell_type": "code",
   "execution_count": 129,
   "id": "e96c2be6-00f1-4007-a9ad-ca3ed434debc",
   "metadata": {},
   "outputs": [
    {
     "data": {
      "text/plain": [
       "대여일자       25421766\n",
       "대여시간       25421766\n",
       "대여소번호      25421766\n",
       "대여소명       25421766\n",
       "이용건수       25421766\n",
       "이동거리(M)    25421752\n",
       "이용시간(분)    25421691\n",
       "dtype: int64"
      ]
     },
     "execution_count": 129,
     "metadata": {},
     "output_type": "execute_result"
    }
   ],
   "source": [
    "df.count()"
   ]
  },
  {
   "cell_type": "code",
   "execution_count": 109,
   "id": "2e693984-7b95-4c6b-b6f5-3d4928f71fa3",
   "metadata": {},
   "outputs": [
    {
     "data": {
      "text/plain": [
       "Index([89690], dtype='int64')"
      ]
     },
     "execution_count": 109,
     "metadata": {},
     "output_type": "execute_result"
    }
   ],
   "source": [
    "df_rtn[df_rtn['이용건수'] == '\\\\N'].index"
   ]
  },
  {
   "cell_type": "code",
   "execution_count": 102,
   "id": "4df2792f-cbd9-478d-a908-44d68d5bcaef",
   "metadata": {},
   "outputs": [
    {
     "data": {
      "text/plain": [
       "대여일자       25421766\n",
       "대여시간       25421766\n",
       "대여소번호      25421766\n",
       "대여소명       25421766\n",
       "이용건수       25421766\n",
       "이동거리(M)    25421752\n",
       "이용시간(분)    25421691\n",
       "dtype: int64"
      ]
     },
     "execution_count": 102,
     "metadata": {},
     "output_type": "execute_result"
    }
   ],
   "source": [
    "df.count()  # (25421803, 7) # 37개 사라짐 => 여기서부터 다시 하기"
   ]
  },
  {
   "cell_type": "code",
   "execution_count": 157,
   "id": "c98e36a1-186b-4bba-99ab-166e3453422d",
   "metadata": {},
   "outputs": [
    {
     "name": "stdout",
     "output_type": "stream",
     "text": [
      "read_parquet time : 4.463822841644287\n"
     ]
    }
   ],
   "source": [
    "import time\n",
    "import pandas as  pd\n",
    "start_time = time.time()\n",
    "filepath = 'G:\\\\내 드라이브\\\\DataSet\\\\_최종 병합 파일\\\\서울특별시 공공자전거 대여소별 이용정보(시간대별)\\\\'\n",
    "filename = '시간대별_2021'\n",
    "df_parquet = pd.read_parquet(filepath + filename + '.parquet')\n",
    "print(\"read_parquet time :\", time.time() - start_time)"
   ]
  },
  {
   "cell_type": "code",
   "execution_count": 159,
   "id": "3e42755b-741d-4a32-ab2f-8db6980fc7c0",
   "metadata": {},
   "outputs": [
    {
     "data": {
      "text/html": [
       "<div>\n",
       "<style scoped>\n",
       "    .dataframe tbody tr th:only-of-type {\n",
       "        vertical-align: middle;\n",
       "    }\n",
       "\n",
       "    .dataframe tbody tr th {\n",
       "        vertical-align: top;\n",
       "    }\n",
       "\n",
       "    .dataframe thead th {\n",
       "        text-align: right;\n",
       "    }\n",
       "</style>\n",
       "<table border=\"1\" class=\"dataframe\">\n",
       "  <thead>\n",
       "    <tr style=\"text-align: right;\">\n",
       "      <th></th>\n",
       "      <th>대여일자</th>\n",
       "      <th>대여시간</th>\n",
       "      <th>대여소번호</th>\n",
       "      <th>대여소명</th>\n",
       "      <th>이용건수</th>\n",
       "      <th>이동거리(M)</th>\n",
       "      <th>이용시간(분)</th>\n",
       "    </tr>\n",
       "  </thead>\n",
       "  <tbody>\n",
       "    <tr>\n",
       "      <th>0</th>\n",
       "      <td>2021-01-01</td>\n",
       "      <td>0</td>\n",
       "      <td>1347</td>\n",
       "      <td>1347. 길음래미안아파트817동 상가 앞</td>\n",
       "      <td>2</td>\n",
       "      <td>992.78</td>\n",
       "      <td>13.0</td>\n",
       "    </tr>\n",
       "    <tr>\n",
       "      <th>1</th>\n",
       "      <td>2021-01-01</td>\n",
       "      <td>0</td>\n",
       "      <td>1349</td>\n",
       "      <td>1349. 월계2교 버스정류장 앞</td>\n",
       "      <td>1</td>\n",
       "      <td>1127.5</td>\n",
       "      <td>10.0</td>\n",
       "    </tr>\n",
       "    <tr>\n",
       "      <th>2</th>\n",
       "      <td>2021-01-01</td>\n",
       "      <td>0</td>\n",
       "      <td>1168</td>\n",
       "      <td>1168. 마곡엠밸리10단지 앞</td>\n",
       "      <td>1</td>\n",
       "      <td>0.0</td>\n",
       "      <td>7.0</td>\n",
       "    </tr>\n",
       "    <tr>\n",
       "      <th>3</th>\n",
       "      <td>2021-01-01</td>\n",
       "      <td>0</td>\n",
       "      <td>2619</td>\n",
       "      <td>2619. 석촌고분역 4번출구</td>\n",
       "      <td>1</td>\n",
       "      <td>1658.34</td>\n",
       "      <td>14.0</td>\n",
       "    </tr>\n",
       "    <tr>\n",
       "      <th>4</th>\n",
       "      <td>2021-01-01</td>\n",
       "      <td>0</td>\n",
       "      <td>536</td>\n",
       "      <td>536. 행당역 2번출구 앞</td>\n",
       "      <td>1</td>\n",
       "      <td>743.88</td>\n",
       "      <td>5.0</td>\n",
       "    </tr>\n",
       "  </tbody>\n",
       "</table>\n",
       "</div>"
      ],
      "text/plain": [
       "         대여일자  대여시간  대여소번호                     대여소명 이용건수  이동거리(M)  이용시간(분)\n",
       "0  2021-01-01     0   1347  1347. 길음래미안아파트817동 상가 앞    2   992.78     13.0\n",
       "1  2021-01-01     0   1349       1349. 월계2교 버스정류장 앞    1   1127.5     10.0\n",
       "2  2021-01-01     0   1168        1168. 마곡엠밸리10단지 앞    1      0.0      7.0\n",
       "3  2021-01-01     0   2619         2619. 석촌고분역 4번출구    1  1658.34     14.0\n",
       "4  2021-01-01     0    536          536. 행당역 2번출구 앞    1   743.88      5.0"
      ]
     },
     "execution_count": 159,
     "metadata": {},
     "output_type": "execute_result"
    }
   ],
   "source": [
    "df_parquet.head()"
   ]
  },
  {
   "cell_type": "code",
   "execution_count": 161,
   "id": "3a427261-d36f-4404-9002-16ba472ed5c7",
   "metadata": {},
   "outputs": [
    {
     "data": {
      "text/plain": [
       "(25421803, 7)"
      ]
     },
     "execution_count": 161,
     "metadata": {},
     "output_type": "execute_result"
    }
   ],
   "source": [
    "df_parquet.shape"
   ]
  },
  {
   "cell_type": "code",
   "execution_count": 163,
   "id": "04bae19a-8f1a-453c-96b1-0712a3fe9e58",
   "metadata": {},
   "outputs": [
    {
     "name": "stdout",
     "output_type": "stream",
     "text": [
      "<class 'pandas.core.frame.DataFrame'>\n",
      "RangeIndex: 25421803 entries, 0 to 25421802\n",
      "Data columns (total 7 columns):\n",
      " #   Column   Dtype  \n",
      "---  ------   -----  \n",
      " 0   대여일자     object \n",
      " 1   대여시간     int64  \n",
      " 2   대여소번호    int64  \n",
      " 3   대여소명     object \n",
      " 4   이용건수     object \n",
      " 5   이동거리(M)  float64\n",
      " 6   이용시간(분)  float64\n",
      "dtypes: float64(2), int64(2), object(3)\n",
      "memory usage: 1.3+ GB\n"
     ]
    }
   ],
   "source": [
    "df_parquet.info()"
   ]
  },
  {
   "cell_type": "code",
   "execution_count": 165,
   "id": "38cddcdf-d2fe-4f46-9edd-c7c5790d511e",
   "metadata": {},
   "outputs": [
    {
     "data": {
      "text/plain": [
       "대여일자       25421803\n",
       "대여시간       25421803\n",
       "대여소번호      25421803\n",
       "대여소명       25421803\n",
       "이용건수       25421803\n",
       "이동거리(M)    25421789\n",
       "이용시간(분)    25421727\n",
       "dtype: int64"
      ]
     },
     "execution_count": 165,
     "metadata": {},
     "output_type": "execute_result"
    }
   ],
   "source": [
    "df_parquet.count()"
   ]
  },
  {
   "cell_type": "code",
   "execution_count": 171,
   "id": "fec32abb-3b38-4a25-9127-1234309fb90a",
   "metadata": {},
   "outputs": [
    {
     "data": {
      "text/html": [
       "<div>\n",
       "<style scoped>\n",
       "    .dataframe tbody tr th:only-of-type {\n",
       "        vertical-align: middle;\n",
       "    }\n",
       "\n",
       "    .dataframe tbody tr th {\n",
       "        vertical-align: top;\n",
       "    }\n",
       "\n",
       "    .dataframe thead th {\n",
       "        text-align: right;\n",
       "    }\n",
       "</style>\n",
       "<table border=\"1\" class=\"dataframe\">\n",
       "  <thead>\n",
       "    <tr style=\"text-align: right;\">\n",
       "      <th></th>\n",
       "      <th>대여일자</th>\n",
       "      <th>대여시간</th>\n",
       "      <th>대여소번호</th>\n",
       "      <th>대여소명</th>\n",
       "      <th>이용건수</th>\n",
       "      <th>이동거리(M)</th>\n",
       "      <th>이용시간(분)</th>\n",
       "    </tr>\n",
       "  </thead>\n",
       "  <tbody>\n",
       "    <tr>\n",
       "      <th>777566</th>\n",
       "      <td>2021-02-02</td>\n",
       "      <td>18</td>\n",
       "      <td>314</td>\n",
       "      <td>314. ?뭏냘測鍮抉解?,정기권\"</td>\n",
       "      <td>\\N</td>\n",
       "      <td>53.0</td>\n",
       "      <td>NaN</td>\n",
       "    </tr>\n",
       "  </tbody>\n",
       "</table>\n",
       "</div>"
      ],
      "text/plain": [
       "              대여일자  대여시간  대여소번호                대여소명 이용건수  이동거리(M)  이용시간(분)\n",
       "777566  2021-02-02    18    314  314. ?뭏냘測鍮抉解?,정기권\"   \\N     53.0      NaN"
      ]
     },
     "execution_count": 171,
     "metadata": {},
     "output_type": "execute_result"
    }
   ],
   "source": [
    "df_parquet[df_parquet['이용건수'] == '\\\\N']"
   ]
  },
  {
   "cell_type": "code",
   "execution_count": 173,
   "id": "2b4263dd-16cc-48f2-9582-f97fb6d7c092",
   "metadata": {},
   "outputs": [],
   "source": [
    "df_r = df_rtn.drop(df_rtn.index[777566])"
   ]
  },
  {
   "cell_type": "code",
   "execution_count": 175,
   "id": "30286f3c-d41b-4533-b619-ca627ebcdaa9",
   "metadata": {},
   "outputs": [
    {
     "data": {
      "text/plain": [
       "대여일자       25421766\n",
       "대여시간       25421766\n",
       "대여소번호      25421766\n",
       "대여소명       25421766\n",
       "이용건수       25421766\n",
       "이동거리(M)    25421752\n",
       "이용시간(분)    25421691\n",
       "dtype: int64"
      ]
     },
     "execution_count": 175,
     "metadata": {},
     "output_type": "execute_result"
    }
   ],
   "source": [
    "df_r.count()"
   ]
  },
  {
   "cell_type": "markdown",
   "id": "1d54bddc-c318-4eeb-aac6-8d87d0b09e1b",
   "metadata": {},
   "source": [
    "### - '대여일자'"
   ]
  },
  {
   "cell_type": "code",
   "execution_count": 157,
   "id": "e60163ab-04d6-47c8-b81b-36d0c70c876a",
   "metadata": {},
   "outputs": [
    {
     "data": {
      "text/plain": [
       "대여일자\n",
       "2021-09-02    208866\n",
       "2021-04-28    182940\n",
       "2021-04-27    137469\n",
       "2021-09-24    115696\n",
       "2021-09-17    114034\n",
       "               ...  \n",
       "2021-01-08      7679\n",
       "2021-03-04      6599\n",
       "2021-01-07      5350\n",
       "2021-03-01      2750\n",
       "2021-05-16      2213\n",
       "Name: count, Length: 363, dtype: int64"
      ]
     },
     "execution_count": 157,
     "metadata": {},
     "output_type": "execute_result"
    }
   ],
   "source": [
    "df_rtn['대여일자'].value_counts()"
   ]
  },
  {
   "cell_type": "code",
   "execution_count": 163,
   "id": "9862db9d-6f85-41a3-9d8a-10b45a61875d",
   "metadata": {},
   "outputs": [
    {
     "data": {
      "text/plain": [
       "0"
      ]
     },
     "execution_count": 163,
     "metadata": {},
     "output_type": "execute_result"
    }
   ],
   "source": [
    "df_rtn['대여일자'].isnull().sum()"
   ]
  },
  {
   "cell_type": "code",
   "execution_count": 165,
   "id": "f58af8a9-0618-4535-89f0-c1c9694d8f25",
   "metadata": {},
   "outputs": [
    {
     "data": {
      "text/html": [
       "<div>\n",
       "<style scoped>\n",
       "    .dataframe tbody tr th:only-of-type {\n",
       "        vertical-align: middle;\n",
       "    }\n",
       "\n",
       "    .dataframe tbody tr th {\n",
       "        vertical-align: top;\n",
       "    }\n",
       "\n",
       "    .dataframe thead th {\n",
       "        text-align: right;\n",
       "    }\n",
       "</style>\n",
       "<table border=\"1\" class=\"dataframe\">\n",
       "  <thead>\n",
       "    <tr style=\"text-align: right;\">\n",
       "      <th></th>\n",
       "      <th>대여일자</th>\n",
       "      <th>대여시간</th>\n",
       "      <th>대여소번호</th>\n",
       "      <th>대여소명</th>\n",
       "      <th>이용건수</th>\n",
       "      <th>이동거리(M)</th>\n",
       "      <th>이용시간(분)</th>\n",
       "    </tr>\n",
       "  </thead>\n",
       "  <tbody>\n",
       "  </tbody>\n",
       "</table>\n",
       "</div>"
      ],
      "text/plain": [
       "Empty DataFrame\n",
       "Columns: [대여일자, 대여시간, 대여소번호, 대여소명, 이용건수, 이동거리(M), 이용시간(분)]\n",
       "Index: []"
      ]
     },
     "execution_count": 165,
     "metadata": {},
     "output_type": "execute_result"
    }
   ],
   "source": [
    "df_rtn[df_rtn['대여일자'] == '\\\\N']"
   ]
  },
  {
   "cell_type": "markdown",
   "id": "bb9791d0-69cf-4231-a8a4-285a60ec2dee",
   "metadata": {},
   "source": [
    "### - '대여시간'"
   ]
  },
  {
   "cell_type": "code",
   "execution_count": 170,
   "id": "67c8e5cb-eeb6-41fc-86ff-1253834a09ff",
   "metadata": {},
   "outputs": [
    {
     "data": {
      "text/plain": [
       "대여시간\n",
       "18    2434772\n",
       "17    2039201\n",
       "19    1797236\n",
       "16    1636617\n",
       "20    1548670\n",
       "8     1546834\n",
       "21    1456272\n",
       "15    1417784\n",
       "14    1293878\n",
       "13    1230385\n",
       "22    1225880\n",
       "12    1198500\n",
       "11    1071671\n",
       "9     1034644\n",
       "7      995475\n",
       "10     904880\n",
       "23     681797\n",
       "0      489232\n",
       "6      428093\n",
       "1      321508\n",
       "2      208968\n",
       "5      197328\n",
       "3      142570\n",
       "4      119571\n",
       "Name: count, dtype: int64"
      ]
     },
     "execution_count": 170,
     "metadata": {},
     "output_type": "execute_result"
    }
   ],
   "source": [
    "df_rtn['대여시간'].value_counts()"
   ]
  },
  {
   "cell_type": "code",
   "execution_count": 174,
   "id": "9c2ccd52-7a6c-4e72-90be-48d5855bba8f",
   "metadata": {},
   "outputs": [
    {
     "data": {
      "text/plain": [
       "0"
      ]
     },
     "execution_count": 174,
     "metadata": {},
     "output_type": "execute_result"
    }
   ],
   "source": [
    "df_rtn['대여시간'].isnull().sum()"
   ]
  },
  {
   "cell_type": "code",
   "execution_count": 176,
   "id": "9c71faf7-2347-4339-bd15-2c2e979981b9",
   "metadata": {},
   "outputs": [
    {
     "data": {
      "text/html": [
       "<div>\n",
       "<style scoped>\n",
       "    .dataframe tbody tr th:only-of-type {\n",
       "        vertical-align: middle;\n",
       "    }\n",
       "\n",
       "    .dataframe tbody tr th {\n",
       "        vertical-align: top;\n",
       "    }\n",
       "\n",
       "    .dataframe thead th {\n",
       "        text-align: right;\n",
       "    }\n",
       "</style>\n",
       "<table border=\"1\" class=\"dataframe\">\n",
       "  <thead>\n",
       "    <tr style=\"text-align: right;\">\n",
       "      <th></th>\n",
       "      <th>대여일자</th>\n",
       "      <th>대여시간</th>\n",
       "      <th>대여소번호</th>\n",
       "      <th>대여소명</th>\n",
       "      <th>이용건수</th>\n",
       "      <th>이동거리(M)</th>\n",
       "      <th>이용시간(분)</th>\n",
       "    </tr>\n",
       "  </thead>\n",
       "  <tbody>\n",
       "  </tbody>\n",
       "</table>\n",
       "</div>"
      ],
      "text/plain": [
       "Empty DataFrame\n",
       "Columns: [대여일자, 대여시간, 대여소번호, 대여소명, 이용건수, 이동거리(M), 이용시간(분)]\n",
       "Index: []"
      ]
     },
     "execution_count": 176,
     "metadata": {},
     "output_type": "execute_result"
    }
   ],
   "source": [
    "df_rtn[df_rtn['대여시간'] == '\\\\N']"
   ]
  },
  {
   "cell_type": "markdown",
   "id": "bc12dffe-e301-4424-8896-68163c480015",
   "metadata": {},
   "source": [
    "### - 대여소 번호"
   ]
  },
  {
   "cell_type": "code",
   "execution_count": 180,
   "id": "e4815698-7d94-417c-94c3-9be7675b6df3",
   "metadata": {},
   "outputs": [
    {
     "data": {
      "text/plain": [
       "대여소번호\n",
       "502      68279\n",
       "207      65058\n",
       "2102     56856\n",
       "2715     56771\n",
       "1210     52112\n",
       "         ...  \n",
       "1114         2\n",
       "1476         2\n",
       "2918         1\n",
       "9990         1\n",
       "90002        1\n",
       "Name: count, Length: 2653, dtype: int64"
      ]
     },
     "execution_count": 180,
     "metadata": {},
     "output_type": "execute_result"
    }
   ],
   "source": [
    "df_rtn['대여소번호'].value_counts()"
   ]
  },
  {
   "cell_type": "code",
   "execution_count": 184,
   "id": "8408f7fb-5fac-48a1-a0c9-8f25a13e8969",
   "metadata": {},
   "outputs": [
    {
     "data": {
      "text/plain": [
       "0"
      ]
     },
     "execution_count": 184,
     "metadata": {},
     "output_type": "execute_result"
    }
   ],
   "source": [
    "df_rtn['대여소번호'].isnull().sum()"
   ]
  },
  {
   "cell_type": "code",
   "execution_count": 186,
   "id": "2eb7b203-7fba-4a7f-8e8d-5a98fec20159",
   "metadata": {},
   "outputs": [
    {
     "data": {
      "text/html": [
       "<div>\n",
       "<style scoped>\n",
       "    .dataframe tbody tr th:only-of-type {\n",
       "        vertical-align: middle;\n",
       "    }\n",
       "\n",
       "    .dataframe tbody tr th {\n",
       "        vertical-align: top;\n",
       "    }\n",
       "\n",
       "    .dataframe thead th {\n",
       "        text-align: right;\n",
       "    }\n",
       "</style>\n",
       "<table border=\"1\" class=\"dataframe\">\n",
       "  <thead>\n",
       "    <tr style=\"text-align: right;\">\n",
       "      <th></th>\n",
       "      <th>대여일자</th>\n",
       "      <th>대여시간</th>\n",
       "      <th>대여소번호</th>\n",
       "      <th>대여소명</th>\n",
       "      <th>이용건수</th>\n",
       "      <th>이동거리(M)</th>\n",
       "      <th>이용시간(분)</th>\n",
       "    </tr>\n",
       "  </thead>\n",
       "  <tbody>\n",
       "  </tbody>\n",
       "</table>\n",
       "</div>"
      ],
      "text/plain": [
       "Empty DataFrame\n",
       "Columns: [대여일자, 대여시간, 대여소번호, 대여소명, 이용건수, 이동거리(M), 이용시간(분)]\n",
       "Index: []"
      ]
     },
     "execution_count": 186,
     "metadata": {},
     "output_type": "execute_result"
    }
   ],
   "source": [
    "df_rtn[df_rtn['대여소번호'] == '\\\\N']"
   ]
  },
  {
   "cell_type": "markdown",
   "id": "f5de0e68-1a73-4e3a-b0c5-b1616b9e346a",
   "metadata": {},
   "source": [
    "### - '대여소명'"
   ]
  },
  {
   "cell_type": "code",
   "execution_count": 189,
   "id": "bce3fbb7-df97-42bd-a7d1-5f8236dce124",
   "metadata": {},
   "outputs": [
    {
     "data": {
      "text/plain": [
       "대여소명\n",
       "502. 뚝섬유원지역 1번출구 앞               68278\n",
       "207. 여의나루역 1번출구 앞                65057\n",
       "2102. 봉림교 교통섬                    56856\n",
       "2715.마곡나루역 2번 출구                 56771\n",
       "1210. 롯데월드타워(잠실역2번출구 쪽)          52111\n",
       "                                 ...  \n",
       "1004. 삼성광나루아파트 ?治봐ㅇ昰?,일일권\"           1\n",
       "1452. 겸재??진입부                        1\n",
       "2000. 신?돋?차 e편한세상 아파트 1109동 앞        1\n",
       "1847. 독산주공 14단지 버스정?何?,정기권\"          1\n",
       "509. 이마트 버스정류소 ??,일일권\"               1\n",
       "Name: count, Length: 2764, dtype: int64"
      ]
     },
     "execution_count": 189,
     "metadata": {},
     "output_type": "execute_result"
    }
   ],
   "source": [
    "df_rtn['대여소명'].value_counts()"
   ]
  },
  {
   "cell_type": "code",
   "execution_count": 191,
   "id": "b3e35921-a8ff-43bf-9d3a-f9d66496b3de",
   "metadata": {},
   "outputs": [
    {
     "data": {
      "text/plain": [
       "0"
      ]
     },
     "execution_count": 191,
     "metadata": {},
     "output_type": "execute_result"
    }
   ],
   "source": [
    "df_rtn['대여소번호'].isnull().sum()"
   ]
  },
  {
   "cell_type": "code",
   "execution_count": 193,
   "id": "a3179ccc-0823-4a79-b7fc-a56caa76ee22",
   "metadata": {},
   "outputs": [
    {
     "data": {
      "text/html": [
       "<div>\n",
       "<style scoped>\n",
       "    .dataframe tbody tr th:only-of-type {\n",
       "        vertical-align: middle;\n",
       "    }\n",
       "\n",
       "    .dataframe tbody tr th {\n",
       "        vertical-align: top;\n",
       "    }\n",
       "\n",
       "    .dataframe thead th {\n",
       "        text-align: right;\n",
       "    }\n",
       "</style>\n",
       "<table border=\"1\" class=\"dataframe\">\n",
       "  <thead>\n",
       "    <tr style=\"text-align: right;\">\n",
       "      <th></th>\n",
       "      <th>대여일자</th>\n",
       "      <th>대여시간</th>\n",
       "      <th>대여소번호</th>\n",
       "      <th>대여소명</th>\n",
       "      <th>이용건수</th>\n",
       "      <th>이동거리(M)</th>\n",
       "      <th>이용시간(분)</th>\n",
       "    </tr>\n",
       "  </thead>\n",
       "  <tbody>\n",
       "  </tbody>\n",
       "</table>\n",
       "</div>"
      ],
      "text/plain": [
       "Empty DataFrame\n",
       "Columns: [대여일자, 대여시간, 대여소번호, 대여소명, 이용건수, 이동거리(M), 이용시간(분)]\n",
       "Index: []"
      ]
     },
     "execution_count": 193,
     "metadata": {},
     "output_type": "execute_result"
    }
   ],
   "source": [
    "df_rtn[df_rtn['대여소번호'] == '\\\\N']"
   ]
  },
  {
   "cell_type": "markdown",
   "id": "f254ee97-a250-4553-b659-baabd76a397d",
   "metadata": {},
   "source": [
    "### 2) 이용건수 sum으로 사용 : '이용건수' -> int로 dtype 변경"
   ]
  },
  {
   "cell_type": "code",
   "execution_count": 2,
   "id": "afa92418-d7f0-4393-94b6-27e08ac1e0ac",
   "metadata": {},
   "outputs": [
    {
     "ename": "NameError",
     "evalue": "name 'df_rtn' is not defined",
     "output_type": "error",
     "traceback": [
      "\u001b[1;31m---------------------------------------------------------------------------\u001b[0m",
      "\u001b[1;31mNameError\u001b[0m                                 Traceback (most recent call last)",
      "Cell \u001b[1;32mIn[2], line 1\u001b[0m\n\u001b[1;32m----> 1\u001b[0m \u001b[43mdf_rtn\u001b[49m[\u001b[38;5;124m'\u001b[39m\u001b[38;5;124m이용건수\u001b[39m\u001b[38;5;124m'\u001b[39m]\u001b[38;5;241m.\u001b[39mapply(\u001b[38;5;28;01mlambda\u001b[39;00m x: \u001b[38;5;28mfloat\u001b[39m(x) \u001b[38;5;28;01mif\u001b[39;00m\u001b[38;5;124m'\u001b[39m\u001b[38;5;124m.\u001b[39m\u001b[38;5;124m'\u001b[39m\u001b[38;5;129;01min\u001b[39;00m \u001b[38;5;28mstr\u001b[39m(x) \u001b[38;5;28;01melse\u001b[39;00m x)\n",
      "\u001b[1;31mNameError\u001b[0m: name 'df_rtn' is not defined"
     ]
    }
   ],
   "source": [
    "df_rtn['이용건수'].apply(lambda x: float(x) if'.'in str(x) else x)"
   ]
  },
  {
   "cell_type": "code",
   "execution_count": 202,
   "id": "a92df191-9562-4292-8acd-56963ee5c56c",
   "metadata": {},
   "outputs": [
    {
     "ename": "KeyError",
     "evalue": "'이용건수'",
     "output_type": "error",
     "traceback": [
      "\u001b[1;31m---------------------------------------------------------------------------\u001b[0m",
      "\u001b[1;31mKeyError\u001b[0m                                  Traceback (most recent call last)",
      "File \u001b[1;32m~\\anaconda3\\Lib\\site-packages\\pandas\\core\\indexes\\base.py:3805\u001b[0m, in \u001b[0;36mIndex.get_loc\u001b[1;34m(self, key)\u001b[0m\n\u001b[0;32m   3804\u001b[0m \u001b[38;5;28;01mtry\u001b[39;00m:\n\u001b[1;32m-> 3805\u001b[0m     \u001b[38;5;28;01mreturn\u001b[39;00m \u001b[38;5;28;43mself\u001b[39;49m\u001b[38;5;241;43m.\u001b[39;49m\u001b[43m_engine\u001b[49m\u001b[38;5;241;43m.\u001b[39;49m\u001b[43mget_loc\u001b[49m\u001b[43m(\u001b[49m\u001b[43mcasted_key\u001b[49m\u001b[43m)\u001b[49m\n\u001b[0;32m   3806\u001b[0m \u001b[38;5;28;01mexcept\u001b[39;00m \u001b[38;5;167;01mKeyError\u001b[39;00m \u001b[38;5;28;01mas\u001b[39;00m err:\n",
      "File \u001b[1;32mindex.pyx:167\u001b[0m, in \u001b[0;36mpandas._libs.index.IndexEngine.get_loc\u001b[1;34m()\u001b[0m\n",
      "File \u001b[1;32mindex.pyx:175\u001b[0m, in \u001b[0;36mpandas._libs.index.IndexEngine.get_loc\u001b[1;34m()\u001b[0m\n",
      "File \u001b[1;32mpandas\\\\_libs\\\\index_class_helper.pxi:70\u001b[0m, in \u001b[0;36mpandas._libs.index.Int64Engine._check_type\u001b[1;34m()\u001b[0m\n",
      "\u001b[1;31mKeyError\u001b[0m: '이용건수'",
      "\nThe above exception was the direct cause of the following exception:\n",
      "\u001b[1;31mKeyError\u001b[0m                                  Traceback (most recent call last)",
      "Cell \u001b[1;32mIn[202], line 1\u001b[0m\n\u001b[1;32m----> 1\u001b[0m \u001b[43mdf_rtn\u001b[49m\u001b[43m[\u001b[49m\u001b[38;5;124;43m'\u001b[39;49m\u001b[38;5;124;43m이용건수\u001b[39;49m\u001b[38;5;124;43m'\u001b[39;49m\u001b[43m]\u001b[49m\u001b[38;5;241m.\u001b[39mvalue_counts()\n",
      "File \u001b[1;32m~\\anaconda3\\Lib\\site-packages\\pandas\\core\\series.py:1121\u001b[0m, in \u001b[0;36mSeries.__getitem__\u001b[1;34m(self, key)\u001b[0m\n\u001b[0;32m   1118\u001b[0m     \u001b[38;5;28;01mreturn\u001b[39;00m \u001b[38;5;28mself\u001b[39m\u001b[38;5;241m.\u001b[39m_values[key]\n\u001b[0;32m   1120\u001b[0m \u001b[38;5;28;01melif\u001b[39;00m key_is_scalar:\n\u001b[1;32m-> 1121\u001b[0m     \u001b[38;5;28;01mreturn\u001b[39;00m \u001b[38;5;28;43mself\u001b[39;49m\u001b[38;5;241;43m.\u001b[39;49m\u001b[43m_get_value\u001b[49m\u001b[43m(\u001b[49m\u001b[43mkey\u001b[49m\u001b[43m)\u001b[49m\n\u001b[0;32m   1123\u001b[0m \u001b[38;5;66;03m# Convert generator to list before going through hashable part\u001b[39;00m\n\u001b[0;32m   1124\u001b[0m \u001b[38;5;66;03m# (We will iterate through the generator there to check for slices)\u001b[39;00m\n\u001b[0;32m   1125\u001b[0m \u001b[38;5;28;01mif\u001b[39;00m is_iterator(key):\n",
      "File \u001b[1;32m~\\anaconda3\\Lib\\site-packages\\pandas\\core\\series.py:1237\u001b[0m, in \u001b[0;36mSeries._get_value\u001b[1;34m(self, label, takeable)\u001b[0m\n\u001b[0;32m   1234\u001b[0m     \u001b[38;5;28;01mreturn\u001b[39;00m \u001b[38;5;28mself\u001b[39m\u001b[38;5;241m.\u001b[39m_values[label]\n\u001b[0;32m   1236\u001b[0m \u001b[38;5;66;03m# Similar to Index.get_value, but we do not fall back to positional\u001b[39;00m\n\u001b[1;32m-> 1237\u001b[0m loc \u001b[38;5;241m=\u001b[39m \u001b[38;5;28;43mself\u001b[39;49m\u001b[38;5;241;43m.\u001b[39;49m\u001b[43mindex\u001b[49m\u001b[38;5;241;43m.\u001b[39;49m\u001b[43mget_loc\u001b[49m\u001b[43m(\u001b[49m\u001b[43mlabel\u001b[49m\u001b[43m)\u001b[49m\n\u001b[0;32m   1239\u001b[0m \u001b[38;5;28;01mif\u001b[39;00m is_integer(loc):\n\u001b[0;32m   1240\u001b[0m     \u001b[38;5;28;01mreturn\u001b[39;00m \u001b[38;5;28mself\u001b[39m\u001b[38;5;241m.\u001b[39m_values[loc]\n",
      "File \u001b[1;32m~\\anaconda3\\Lib\\site-packages\\pandas\\core\\indexes\\base.py:3812\u001b[0m, in \u001b[0;36mIndex.get_loc\u001b[1;34m(self, key)\u001b[0m\n\u001b[0;32m   3807\u001b[0m     \u001b[38;5;28;01mif\u001b[39;00m \u001b[38;5;28misinstance\u001b[39m(casted_key, \u001b[38;5;28mslice\u001b[39m) \u001b[38;5;129;01mor\u001b[39;00m (\n\u001b[0;32m   3808\u001b[0m         \u001b[38;5;28misinstance\u001b[39m(casted_key, abc\u001b[38;5;241m.\u001b[39mIterable)\n\u001b[0;32m   3809\u001b[0m         \u001b[38;5;129;01mand\u001b[39;00m \u001b[38;5;28many\u001b[39m(\u001b[38;5;28misinstance\u001b[39m(x, \u001b[38;5;28mslice\u001b[39m) \u001b[38;5;28;01mfor\u001b[39;00m x \u001b[38;5;129;01min\u001b[39;00m casted_key)\n\u001b[0;32m   3810\u001b[0m     ):\n\u001b[0;32m   3811\u001b[0m         \u001b[38;5;28;01mraise\u001b[39;00m InvalidIndexError(key)\n\u001b[1;32m-> 3812\u001b[0m     \u001b[38;5;28;01mraise\u001b[39;00m \u001b[38;5;167;01mKeyError\u001b[39;00m(key) \u001b[38;5;28;01mfrom\u001b[39;00m \u001b[38;5;21;01merr\u001b[39;00m\n\u001b[0;32m   3813\u001b[0m \u001b[38;5;28;01mexcept\u001b[39;00m \u001b[38;5;167;01mTypeError\u001b[39;00m:\n\u001b[0;32m   3814\u001b[0m     \u001b[38;5;66;03m# If we have a listlike key, _check_indexing_error will raise\u001b[39;00m\n\u001b[0;32m   3815\u001b[0m     \u001b[38;5;66;03m#  InvalidIndexError. Otherwise we fall through and re-raise\u001b[39;00m\n\u001b[0;32m   3816\u001b[0m     \u001b[38;5;66;03m#  the TypeError.\u001b[39;00m\n\u001b[0;32m   3817\u001b[0m     \u001b[38;5;28mself\u001b[39m\u001b[38;5;241m.\u001b[39m_check_indexing_error(key)\n",
      "\u001b[1;31mKeyError\u001b[0m: '이용건수'"
     ]
    }
   ],
   "source": [
    "df_rtn['이용건수'].value_counts()"
   ]
  },
  {
   "cell_type": "code",
   "execution_count": null,
   "id": "dfaf9745-b268-4068-867b-3fda737768c7",
   "metadata": {},
   "outputs": [],
   "source": []
  }
 ],
 "metadata": {
  "kernelspec": {
   "display_name": "Python 3 (ipykernel)",
   "language": "python",
   "name": "python3"
  },
  "language_info": {
   "codemirror_mode": {
    "name": "ipython",
    "version": 3
   },
   "file_extension": ".py",
   "mimetype": "text/x-python",
   "name": "python",
   "nbconvert_exporter": "python",
   "pygments_lexer": "ipython3",
   "version": "3.12.4"
  }
 },
 "nbformat": 4,
 "nbformat_minor": 5
}
