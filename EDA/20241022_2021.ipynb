{
 "cells": [
  {
   "cell_type": "code",
   "execution_count": 1,
   "id": "98666c0e-adbb-454a-8258-9b4c1aa20929",
   "metadata": {},
   "outputs": [
    {
     "name": "stdout",
     "output_type": "stream",
     "text": [
      "read_parquet time : 4.739560127258301\n"
     ]
    }
   ],
   "source": [
    "import time\n",
    "import pandas as  pd\n",
    "\n",
    "start_time = time.time()\n",
    "filepath = 'G:\\\\내 드라이브\\\\DataSet\\\\_최종 병합 파일\\\\서울특별시 공공자전거 대여소별 이용정보(시간대별)\\\\'\n",
    "filename = '시간대별_2021'\n",
    "df_parquet = pd.read_parquet(filepath + filename + '.parquet')\n",
    "print(\"read_parquet time :\", time.time() - start_time)"
   ]
  },
  {
   "cell_type": "code",
   "execution_count": 3,
   "id": "f0f7c6d7-b342-460f-b4fd-00ecc29740b8",
   "metadata": {},
   "outputs": [
    {
     "data": {
      "text/html": [
       "<div>\n",
       "<style scoped>\n",
       "    .dataframe tbody tr th:only-of-type {\n",
       "        vertical-align: middle;\n",
       "    }\n",
       "\n",
       "    .dataframe tbody tr th {\n",
       "        vertical-align: top;\n",
       "    }\n",
       "\n",
       "    .dataframe thead th {\n",
       "        text-align: right;\n",
       "    }\n",
       "</style>\n",
       "<table border=\"1\" class=\"dataframe\">\n",
       "  <thead>\n",
       "    <tr style=\"text-align: right;\">\n",
       "      <th></th>\n",
       "      <th>대여일자</th>\n",
       "      <th>대여시간</th>\n",
       "      <th>대여소번호</th>\n",
       "      <th>대여소명</th>\n",
       "      <th>이용건수</th>\n",
       "      <th>이동거리(M)</th>\n",
       "      <th>이용시간(분)</th>\n",
       "    </tr>\n",
       "  </thead>\n",
       "  <tbody>\n",
       "    <tr>\n",
       "      <th>0</th>\n",
       "      <td>2021-01-01</td>\n",
       "      <td>0</td>\n",
       "      <td>1347</td>\n",
       "      <td>1347. 길음래미안아파트817동 상가 앞</td>\n",
       "      <td>2</td>\n",
       "      <td>992.78</td>\n",
       "      <td>13.0</td>\n",
       "    </tr>\n",
       "    <tr>\n",
       "      <th>1</th>\n",
       "      <td>2021-01-01</td>\n",
       "      <td>0</td>\n",
       "      <td>1349</td>\n",
       "      <td>1349. 월계2교 버스정류장 앞</td>\n",
       "      <td>1</td>\n",
       "      <td>1127.50</td>\n",
       "      <td>10.0</td>\n",
       "    </tr>\n",
       "    <tr>\n",
       "      <th>2</th>\n",
       "      <td>2021-01-01</td>\n",
       "      <td>0</td>\n",
       "      <td>1168</td>\n",
       "      <td>1168. 마곡엠밸리10단지 앞</td>\n",
       "      <td>1</td>\n",
       "      <td>0.00</td>\n",
       "      <td>7.0</td>\n",
       "    </tr>\n",
       "    <tr>\n",
       "      <th>3</th>\n",
       "      <td>2021-01-01</td>\n",
       "      <td>0</td>\n",
       "      <td>2619</td>\n",
       "      <td>2619. 석촌고분역 4번출구</td>\n",
       "      <td>1</td>\n",
       "      <td>1658.34</td>\n",
       "      <td>14.0</td>\n",
       "    </tr>\n",
       "    <tr>\n",
       "      <th>4</th>\n",
       "      <td>2021-01-01</td>\n",
       "      <td>0</td>\n",
       "      <td>536</td>\n",
       "      <td>536. 행당역 2번출구 앞</td>\n",
       "      <td>1</td>\n",
       "      <td>743.88</td>\n",
       "      <td>5.0</td>\n",
       "    </tr>\n",
       "  </tbody>\n",
       "</table>\n",
       "</div>"
      ],
      "text/plain": [
       "         대여일자  대여시간  대여소번호                     대여소명 이용건수  이동거리(M)  이용시간(분)\n",
       "0  2021-01-01     0   1347  1347. 길음래미안아파트817동 상가 앞    2   992.78     13.0\n",
       "1  2021-01-01     0   1349       1349. 월계2교 버스정류장 앞    1  1127.50     10.0\n",
       "2  2021-01-01     0   1168        1168. 마곡엠밸리10단지 앞    1     0.00      7.0\n",
       "3  2021-01-01     0   2619         2619. 석촌고분역 4번출구    1  1658.34     14.0\n",
       "4  2021-01-01     0    536          536. 행당역 2번출구 앞    1   743.88      5.0"
      ]
     },
     "execution_count": 3,
     "metadata": {},
     "output_type": "execute_result"
    }
   ],
   "source": [
    "df_parquet.head()"
   ]
  },
  {
   "cell_type": "code",
   "execution_count": 11,
   "id": "8b5c216f-c55b-490b-b041-a69f8d61a9cf",
   "metadata": {},
   "outputs": [
    {
     "name": "stdout",
     "output_type": "stream",
     "text": [
      "<class 'pandas.core.frame.DataFrame'>\n",
      "RangeIndex: 25421803 entries, 0 to 25421802\n",
      "Data columns (total 7 columns):\n",
      " #   Column   Dtype  \n",
      "---  ------   -----  \n",
      " 0   대여일자     object \n",
      " 1   대여시간     int64  \n",
      " 2   대여소번호    int64  \n",
      " 3   대여소명     object \n",
      " 4   이용건수     object \n",
      " 5   이동거리(M)  float64\n",
      " 6   이용시간(분)  float64\n",
      "dtypes: float64(2), int64(2), object(3)\n",
      "memory usage: 1.3+ GB\n"
     ]
    }
   ],
   "source": [
    "df_parquet.info() # 이용건수 -> int로 변경하기"
   ]
  },
  {
   "cell_type": "code",
   "execution_count": 5,
   "id": "1c7b62f7-bd53-443d-b793-1ede9c028eed",
   "metadata": {},
   "outputs": [
    {
     "data": {
      "text/plain": [
       "대여일자       25421803\n",
       "대여시간       25421803\n",
       "대여소번호      25421803\n",
       "대여소명       25421803\n",
       "이용건수       25421803\n",
       "이동거리(M)    25421789\n",
       "이용시간(분)    25421727\n",
       "dtype: int64"
      ]
     },
     "execution_count": 5,
     "metadata": {},
     "output_type": "execute_result"
    }
   ],
   "source": [
    "df_parquet.count()"
   ]
  },
  {
   "cell_type": "code",
   "execution_count": 13,
   "id": "e14c24de-fae4-45cf-be21-bb6290f5796e",
   "metadata": {},
   "outputs": [
    {
     "data": {
      "text/html": [
       "<div>\n",
       "<style scoped>\n",
       "    .dataframe tbody tr th:only-of-type {\n",
       "        vertical-align: middle;\n",
       "    }\n",
       "\n",
       "    .dataframe tbody tr th {\n",
       "        vertical-align: top;\n",
       "    }\n",
       "\n",
       "    .dataframe thead th {\n",
       "        text-align: right;\n",
       "    }\n",
       "</style>\n",
       "<table border=\"1\" class=\"dataframe\">\n",
       "  <thead>\n",
       "    <tr style=\"text-align: right;\">\n",
       "      <th></th>\n",
       "      <th>대여시간</th>\n",
       "      <th>대여소번호</th>\n",
       "      <th>이동거리(M)</th>\n",
       "      <th>이용시간(분)</th>\n",
       "    </tr>\n",
       "  </thead>\n",
       "  <tbody>\n",
       "    <tr>\n",
       "      <th>count</th>\n",
       "      <td>2.542180e+07</td>\n",
       "      <td>2.542180e+07</td>\n",
       "      <td>2.542179e+07</td>\n",
       "      <td>2.542173e+07</td>\n",
       "    </tr>\n",
       "    <tr>\n",
       "      <th>mean</th>\n",
       "      <td>1.445541e+01</td>\n",
       "      <td>1.714753e+03</td>\n",
       "      <td>3.094494e+03</td>\n",
       "      <td>2.837335e+01</td>\n",
       "    </tr>\n",
       "    <tr>\n",
       "      <th>std</th>\n",
       "      <td>5.535993e+00</td>\n",
       "      <td>1.266433e+03</td>\n",
       "      <td>4.375321e+03</td>\n",
       "      <td>3.345653e+01</td>\n",
       "    </tr>\n",
       "    <tr>\n",
       "      <th>min</th>\n",
       "      <td>0.000000e+00</td>\n",
       "      <td>3.000000e+00</td>\n",
       "      <td>0.000000e+00</td>\n",
       "      <td>0.000000e+00</td>\n",
       "    </tr>\n",
       "    <tr>\n",
       "      <th>25%</th>\n",
       "      <td>1.000000e+01</td>\n",
       "      <td>6.770000e+02</td>\n",
       "      <td>7.708800e+02</td>\n",
       "      <td>8.000000e+00</td>\n",
       "    </tr>\n",
       "    <tr>\n",
       "      <th>50%</th>\n",
       "      <td>1.600000e+01</td>\n",
       "      <td>1.384000e+03</td>\n",
       "      <td>1.678980e+03</td>\n",
       "      <td>1.600000e+01</td>\n",
       "    </tr>\n",
       "    <tr>\n",
       "      <th>75%</th>\n",
       "      <td>1.900000e+01</td>\n",
       "      <td>2.431000e+03</td>\n",
       "      <td>3.672380e+03</td>\n",
       "      <td>3.700000e+01</td>\n",
       "    </tr>\n",
       "    <tr>\n",
       "      <th>max</th>\n",
       "      <td>2.300000e+01</td>\n",
       "      <td>9.999900e+04</td>\n",
       "      <td>4.731984e+06</td>\n",
       "      <td>2.701000e+03</td>\n",
       "    </tr>\n",
       "  </tbody>\n",
       "</table>\n",
       "</div>"
      ],
      "text/plain": [
       "               대여시간         대여소번호       이동거리(M)       이용시간(분)\n",
       "count  2.542180e+07  2.542180e+07  2.542179e+07  2.542173e+07\n",
       "mean   1.445541e+01  1.714753e+03  3.094494e+03  2.837335e+01\n",
       "std    5.535993e+00  1.266433e+03  4.375321e+03  3.345653e+01\n",
       "min    0.000000e+00  3.000000e+00  0.000000e+00  0.000000e+00\n",
       "25%    1.000000e+01  6.770000e+02  7.708800e+02  8.000000e+00\n",
       "50%    1.600000e+01  1.384000e+03  1.678980e+03  1.600000e+01\n",
       "75%    1.900000e+01  2.431000e+03  3.672380e+03  3.700000e+01\n",
       "max    2.300000e+01  9.999900e+04  4.731984e+06  2.701000e+03"
      ]
     },
     "execution_count": 13,
     "metadata": {},
     "output_type": "execute_result"
    }
   ],
   "source": [
    "df_parquet.describe()"
   ]
  },
  {
   "cell_type": "code",
   "execution_count": 15,
   "id": "9d0af0e7-d4cb-492d-945d-6c704219991c",
   "metadata": {},
   "outputs": [],
   "source": [
    "pd.options.display.float_format = '{:3}'.format"
   ]
  },
  {
   "cell_type": "code",
   "execution_count": 19,
   "id": "93609e34-b294-4f3b-9857-69056d900450",
   "metadata": {},
   "outputs": [
    {
     "data": {
      "text/html": [
       "<div>\n",
       "<style scoped>\n",
       "    .dataframe tbody tr th:only-of-type {\n",
       "        vertical-align: middle;\n",
       "    }\n",
       "\n",
       "    .dataframe tbody tr th {\n",
       "        vertical-align: top;\n",
       "    }\n",
       "\n",
       "    .dataframe thead th {\n",
       "        text-align: right;\n",
       "    }\n",
       "</style>\n",
       "<table border=\"1\" class=\"dataframe\">\n",
       "  <thead>\n",
       "    <tr style=\"text-align: right;\">\n",
       "      <th></th>\n",
       "      <th>대여시간</th>\n",
       "      <th>대여소번호</th>\n",
       "      <th>이동거리(M)</th>\n",
       "      <th>이용시간(분)</th>\n",
       "    </tr>\n",
       "  </thead>\n",
       "  <tbody>\n",
       "    <tr>\n",
       "      <th>count</th>\n",
       "      <td>25421803.0</td>\n",
       "      <td>25421803.0</td>\n",
       "      <td>25421789.0</td>\n",
       "      <td>25421727.0</td>\n",
       "    </tr>\n",
       "    <tr>\n",
       "      <th>mean</th>\n",
       "      <td>14.5</td>\n",
       "      <td>1714.8</td>\n",
       "      <td>3094.5</td>\n",
       "      <td>28.4</td>\n",
       "    </tr>\n",
       "    <tr>\n",
       "      <th>std</th>\n",
       "      <td>5.5</td>\n",
       "      <td>1266.4</td>\n",
       "      <td>4375.3</td>\n",
       "      <td>33.5</td>\n",
       "    </tr>\n",
       "    <tr>\n",
       "      <th>min</th>\n",
       "      <td>0.0</td>\n",
       "      <td>3.0</td>\n",
       "      <td>0.0</td>\n",
       "      <td>0.0</td>\n",
       "    </tr>\n",
       "    <tr>\n",
       "      <th>25%</th>\n",
       "      <td>10.0</td>\n",
       "      <td>677.0</td>\n",
       "      <td>770.9</td>\n",
       "      <td>8.0</td>\n",
       "    </tr>\n",
       "    <tr>\n",
       "      <th>50%</th>\n",
       "      <td>16.0</td>\n",
       "      <td>1384.0</td>\n",
       "      <td>1679.0</td>\n",
       "      <td>16.0</td>\n",
       "    </tr>\n",
       "    <tr>\n",
       "      <th>75%</th>\n",
       "      <td>19.0</td>\n",
       "      <td>2431.0</td>\n",
       "      <td>3672.4</td>\n",
       "      <td>37.0</td>\n",
       "    </tr>\n",
       "    <tr>\n",
       "      <th>max</th>\n",
       "      <td>23.0</td>\n",
       "      <td>99999.0</td>\n",
       "      <td>4731983.6</td>\n",
       "      <td>2701.0</td>\n",
       "    </tr>\n",
       "  </tbody>\n",
       "</table>\n",
       "</div>"
      ],
      "text/plain": [
       "            대여시간      대여소번호    이동거리(M)    이용시간(분)\n",
       "count 25421803.0 25421803.0 25421789.0 25421727.0\n",
       "mean        14.5     1714.8     3094.5       28.4\n",
       "std          5.5     1266.4     4375.3       33.5\n",
       "min          0.0        3.0        0.0        0.0\n",
       "25%         10.0      677.0      770.9        8.0\n",
       "50%         16.0     1384.0     1679.0       16.0\n",
       "75%         19.0     2431.0     3672.4       37.0\n",
       "max         23.0    99999.0  4731983.6     2701.0"
      ]
     },
     "execution_count": 19,
     "metadata": {},
     "output_type": "execute_result"
    }
   ],
   "source": [
    "round(df_parquet.describe(), 1)"
   ]
  },
  {
   "cell_type": "code",
   "execution_count": 7,
   "id": "ee39e745-aa88-4bcf-8100-17ab2677e906",
   "metadata": {},
   "outputs": [
    {
     "data": {
      "text/plain": [
       "대여일자        0\n",
       "대여시간        0\n",
       "대여소번호       0\n",
       "대여소명        0\n",
       "이용건수        0\n",
       "이동거리(M)    14\n",
       "이용시간(분)    76\n",
       "dtype: int64"
      ]
     },
     "execution_count": 7,
     "metadata": {},
     "output_type": "execute_result"
    }
   ],
   "source": [
    "df_parquet.isnull().sum()"
   ]
  },
  {
   "cell_type": "markdown",
   "id": "9f51577e-f94a-4560-af13-172a3faed974",
   "metadata": {},
   "source": [
    "## 1. 필요한 컬럼확인하기"
   ]
  },
  {
   "cell_type": "markdown",
   "id": "00e8bc35-677d-4cc3-a56f-a215de37a2eb",
   "metadata": {},
   "source": [
    "### 1) 이용건수"
   ]
  },
  {
   "cell_type": "code",
   "execution_count": 23,
   "id": "5175d457-7c4c-4ebb-856e-e975f4947662",
   "metadata": {},
   "outputs": [
    {
     "data": {
      "text/plain": [
       "이용건수\n",
       "1         20614051\n",
       "1.0        2287666\n",
       "2          1884267\n",
       "3           302055\n",
       "2.0         186032\n",
       "            ...   \n",
       "48.31            1\n",
       "31.63            1\n",
       "13.24            1\n",
       "168.37           1\n",
       "29               1\n",
       "Name: count, Length: 120, dtype: int64"
      ]
     },
     "execution_count": 23,
     "metadata": {},
     "output_type": "execute_result"
    }
   ],
   "source": [
    "df_parquet['이용건수'].value_counts()"
   ]
  },
  {
   "cell_type": "code",
   "execution_count": 25,
   "id": "b59b2bca-ac51-4f1f-bbd7-fc674e74c9a7",
   "metadata": {},
   "outputs": [
    {
     "data": {
      "text/html": [
       "<div>\n",
       "<style scoped>\n",
       "    .dataframe tbody tr th:only-of-type {\n",
       "        vertical-align: middle;\n",
       "    }\n",
       "\n",
       "    .dataframe tbody tr th {\n",
       "        vertical-align: top;\n",
       "    }\n",
       "\n",
       "    .dataframe thead th {\n",
       "        text-align: right;\n",
       "    }\n",
       "</style>\n",
       "<table border=\"1\" class=\"dataframe\">\n",
       "  <thead>\n",
       "    <tr style=\"text-align: right;\">\n",
       "      <th></th>\n",
       "      <th>대여일자</th>\n",
       "      <th>대여시간</th>\n",
       "      <th>대여소번호</th>\n",
       "      <th>대여소명</th>\n",
       "      <th>이용건수</th>\n",
       "      <th>이동거리(M)</th>\n",
       "      <th>이용시간(분)</th>\n",
       "    </tr>\n",
       "  </thead>\n",
       "  <tbody>\n",
       "    <tr>\n",
       "      <th>777566</th>\n",
       "      <td>2021-02-02</td>\n",
       "      <td>18</td>\n",
       "      <td>314</td>\n",
       "      <td>314. ?뭏냘測鍮抉解?,정기권\"</td>\n",
       "      <td>\\N</td>\n",
       "      <td>53.0</td>\n",
       "      <td>NaN</td>\n",
       "    </tr>\n",
       "  </tbody>\n",
       "</table>\n",
       "</div>"
      ],
      "text/plain": [
       "              대여일자  대여시간  대여소번호                대여소명 이용건수  이동거리(M)  이용시간(분)\n",
       "777566  2021-02-02    18    314  314. ?뭏냘測鍮抉解?,정기권\"   \\N     53.0      NaN"
      ]
     },
     "execution_count": 25,
     "metadata": {},
     "output_type": "execute_result"
    }
   ],
   "source": [
    "df_parquet[df_parquet['이용건수'] == '\\\\N']"
   ]
  },
  {
   "cell_type": "markdown",
   "id": "a095be36-0441-4c5c-be03-57b23c288ba8",
   "metadata": {},
   "source": [
    "### - 이용건수가 null값인 행 삭제하기"
   ]
  },
  {
   "cell_type": "code",
   "execution_count": 27,
   "id": "76ca75c6-0756-4993-9cfe-e91838e8a61b",
   "metadata": {},
   "outputs": [],
   "source": [
    "df = df_parquet.drop(df_parquet[df_parquet['이용건수'] == '\\\\N'].index, axis=0)"
   ]
  },
  {
   "cell_type": "code",
   "execution_count": 29,
   "id": "31868645-476d-4e17-a3f3-a0a6a4632cd3",
   "metadata": {},
   "outputs": [
    {
     "data": {
      "text/plain": [
       "25421802"
      ]
     },
     "execution_count": 29,
     "metadata": {},
     "output_type": "execute_result"
    }
   ],
   "source": [
    "df.shape[0]"
   ]
  },
  {
   "cell_type": "code",
   "execution_count": 31,
   "id": "7f360777-6334-4e44-bbd2-2c0b10c11abd",
   "metadata": {},
   "outputs": [
    {
     "data": {
      "text/plain": [
       "대여일자       25421802\n",
       "대여시간       25421802\n",
       "대여소번호      25421802\n",
       "대여소명       25421802\n",
       "이용건수       25421802\n",
       "이동거리(M)    25421788\n",
       "이용시간(분)    25421727\n",
       "dtype: int64"
      ]
     },
     "execution_count": 31,
     "metadata": {},
     "output_type": "execute_result"
    }
   ],
   "source": [
    "df.count()"
   ]
  },
  {
   "cell_type": "code",
   "execution_count": 35,
   "id": "918d9bc8-901d-4c1f-bc61-06c686f8af6e",
   "metadata": {},
   "outputs": [
    {
     "data": {
      "text/plain": [
       "대여일자        0\n",
       "대여시간        0\n",
       "대여소번호       0\n",
       "대여소명        0\n",
       "이용건수        0\n",
       "이동거리(M)    14\n",
       "이용시간(분)    75\n",
       "dtype: int64"
      ]
     },
     "execution_count": 35,
     "metadata": {},
     "output_type": "execute_result"
    }
   ],
   "source": [
    "df.isnull().sum()"
   ]
  },
  {
   "cell_type": "markdown",
   "id": "01d28639-e027-4e8a-810a-c11e87e264f3",
   "metadata": {},
   "source": [
    "### - '이용시간(분)'이 null값인 행은 데이터가 밀림"
   ]
  },
  {
   "cell_type": "code",
   "execution_count": 37,
   "id": "94af56a6-5002-44f5-992e-b5424a3fe465",
   "metadata": {},
   "outputs": [
    {
     "data": {
      "text/html": [
       "<div>\n",
       "<style scoped>\n",
       "    .dataframe tbody tr th:only-of-type {\n",
       "        vertical-align: middle;\n",
       "    }\n",
       "\n",
       "    .dataframe tbody tr th {\n",
       "        vertical-align: top;\n",
       "    }\n",
       "\n",
       "    .dataframe thead th {\n",
       "        text-align: right;\n",
       "    }\n",
       "</style>\n",
       "<table border=\"1\" class=\"dataframe\">\n",
       "  <thead>\n",
       "    <tr style=\"text-align: right;\">\n",
       "      <th></th>\n",
       "      <th>대여일자</th>\n",
       "      <th>대여시간</th>\n",
       "      <th>대여소번호</th>\n",
       "      <th>대여소명</th>\n",
       "      <th>이용건수</th>\n",
       "      <th>이동거리(M)</th>\n",
       "      <th>이용시간(분)</th>\n",
       "    </tr>\n",
       "  </thead>\n",
       "  <tbody>\n",
       "    <tr>\n",
       "      <th>756299</th>\n",
       "      <td>2021-02-01</td>\n",
       "      <td>23</td>\n",
       "      <td>2251</td>\n",
       "      <td>2251. 더케이호텔 입구(양재2)</td>\n",
       "      <td>0.00</td>\n",
       "      <td>3.0</td>\n",
       "      <td>NaN</td>\n",
       "    </tr>\n",
       "    <tr>\n",
       "      <th>760071</th>\n",
       "      <td>2021-02-02</td>\n",
       "      <td>7</td>\n",
       "      <td>231</td>\n",
       "      <td>231. 남부고용노동지청 남측</td>\n",
       "      <td>11.45</td>\n",
       "      <td>3.0</td>\n",
       "      <td>NaN</td>\n",
       "    </tr>\n",
       "    <tr>\n",
       "      <th>761332</th>\n",
       "      <td>2021-02-02</td>\n",
       "      <td>8</td>\n",
       "      <td>1822</td>\n",
       "      <td>1822. 서울 시흥동우체국 앞</td>\n",
       "      <td>128.54</td>\n",
       "      <td>38.0</td>\n",
       "      <td>NaN</td>\n",
       "    </tr>\n",
       "    <tr>\n",
       "      <th>771340</th>\n",
       "      <td>2021-02-02</td>\n",
       "      <td>15</td>\n",
       "      <td>324</td>\n",
       "      <td>324. 신세계백화점 본점 ??,정기권\"</td>\n",
       "      <td>31.13</td>\n",
       "      <td>9.0</td>\n",
       "      <td>NaN</td>\n",
       "    </tr>\n",
       "    <tr>\n",
       "      <th>828755</th>\n",
       "      <td>2021-02-04</td>\n",
       "      <td>19</td>\n",
       "      <td>3513</td>\n",
       "      <td>3513. 상왕십리역 1번출구</td>\n",
       "      <td>97.63</td>\n",
       "      <td>29.0</td>\n",
       "      <td>NaN</td>\n",
       "    </tr>\n",
       "    <tr>\n",
       "      <th>...</th>\n",
       "      <td>...</td>\n",
       "      <td>...</td>\n",
       "      <td>...</td>\n",
       "      <td>...</td>\n",
       "      <td>...</td>\n",
       "      <td>...</td>\n",
       "      <td>...</td>\n",
       "    </tr>\n",
       "    <tr>\n",
       "      <th>3581228</th>\n",
       "      <td>2021-03-31</td>\n",
       "      <td>17</td>\n",
       "      <td>519</td>\n",
       "      <td>519. 양지사?타?,정기권\"</td>\n",
       "      <td>34.88</td>\n",
       "      <td>6.0</td>\n",
       "      <td>NaN</td>\n",
       "    </tr>\n",
       "    <tr>\n",
       "      <th>3598575</th>\n",
       "      <td>2021-03-31</td>\n",
       "      <td>19</td>\n",
       "      <td>3116</td>\n",
       "      <td>3116.신촌역 4번출??,정기권\"</td>\n",
       "      <td>225.21</td>\n",
       "      <td>42.0</td>\n",
       "      <td>NaN</td>\n",
       "    </tr>\n",
       "    <tr>\n",
       "      <th>3606015</th>\n",
       "      <td>2021-03-31</td>\n",
       "      <td>20</td>\n",
       "      <td>792</td>\n",
       "      <td>792.목동트라팰리스 웨스턴에비뉴</td>\n",
       "      <td>62.93</td>\n",
       "      <td>18.0</td>\n",
       "      <td>NaN</td>\n",
       "    </tr>\n",
       "    <tr>\n",
       "      <th>3609716</th>\n",
       "      <td>2021-03-31</td>\n",
       "      <td>21</td>\n",
       "      <td>3541</td>\n",
       "      <td>3541. 커먼그라운드</td>\n",
       "      <td>0.19</td>\n",
       "      <td>NaN</td>\n",
       "      <td>NaN</td>\n",
       "    </tr>\n",
       "    <tr>\n",
       "      <th>3619636</th>\n",
       "      <td>2021-03-31</td>\n",
       "      <td>23</td>\n",
       "      <td>829</td>\n",
       "      <td>829. 베르가모앞</td>\n",
       "      <td>45.85</td>\n",
       "      <td>14.0</td>\n",
       "      <td>NaN</td>\n",
       "    </tr>\n",
       "  </tbody>\n",
       "</table>\n",
       "<p>75 rows × 7 columns</p>\n",
       "</div>"
      ],
      "text/plain": [
       "               대여일자  대여시간  대여소번호                    대여소명    이용건수  이동거리(M)  \\\n",
       "756299   2021-02-01    23   2251    2251. 더케이호텔 입구(양재2)     0.00      3.0   \n",
       "760071   2021-02-02     7    231        231. 남부고용노동지청 남측   11.45      3.0   \n",
       "761332   2021-02-02     8   1822       1822. 서울 시흥동우체국 앞  128.54     38.0   \n",
       "771340   2021-02-02    15    324  324. 신세계백화점 본점 ??,정기권\"   31.13      9.0   \n",
       "828755   2021-02-04    19   3513        3513. 상왕십리역 1번출구   97.63     29.0   \n",
       "...             ...   ...    ...                     ...     ...      ...   \n",
       "3581228  2021-03-31    17    519        519. 양지사?타?,정기권\"   34.88      6.0   \n",
       "3598575  2021-03-31    19   3116     3116.신촌역 4번출??,정기권\"  225.21     42.0   \n",
       "3606015  2021-03-31    20    792      792.목동트라팰리스 웨스턴에비뉴   62.93     18.0   \n",
       "3609716  2021-03-31    21   3541            3541. 커먼그라운드    0.19      NaN   \n",
       "3619636  2021-03-31    23    829              829. 베르가모앞   45.85     14.0   \n",
       "\n",
       "         이용시간(분)  \n",
       "756299       NaN  \n",
       "760071       NaN  \n",
       "761332       NaN  \n",
       "771340       NaN  \n",
       "828755       NaN  \n",
       "...          ...  \n",
       "3581228      NaN  \n",
       "3598575      NaN  \n",
       "3606015      NaN  \n",
       "3609716      NaN  \n",
       "3619636      NaN  \n",
       "\n",
       "[75 rows x 7 columns]"
      ]
     },
     "execution_count": 37,
     "metadata": {},
     "output_type": "execute_result"
    }
   ],
   "source": [
    "df[df['이용시간(분)'].isnull()]"
   ]
  },
  {
   "cell_type": "markdown",
   "id": "0c967b14-4cc7-4646-9e92-5c7ce95bce4e",
   "metadata": {},
   "source": [
    "### - '이용기간(분)'이 null값인 행 삭제하기"
   ]
  },
  {
   "cell_type": "code",
   "execution_count": 39,
   "id": "bf719c58-9128-450c-ab18-166c7d5ae122",
   "metadata": {},
   "outputs": [],
   "source": [
    "df = df.dropna(subset=['이용시간(분)'])"
   ]
  },
  {
   "cell_type": "code",
   "execution_count": 43,
   "id": "263a15c5-dfd3-4873-93e8-e276cbaf0e33",
   "metadata": {},
   "outputs": [
    {
     "data": {
      "text/plain": [
       "(25421727, 7)"
      ]
     },
     "execution_count": 43,
     "metadata": {},
     "output_type": "execute_result"
    }
   ],
   "source": [
    "df.shape"
   ]
  },
  {
   "cell_type": "markdown",
   "id": "bedcf3fb-f1a4-4314-817b-d260ffe828b2",
   "metadata": {},
   "source": [
    "### - 데이터 타입이 object인 '이용건수' 컬럼을 int로 변경하기"
   ]
  },
  {
   "cell_type": "code",
   "execution_count": 49,
   "id": "23314811-921c-4795-8048-4987b1765468",
   "metadata": {},
   "outputs": [
    {
     "name": "stdout",
     "output_type": "stream",
     "text": [
      "object\n"
     ]
    }
   ],
   "source": [
    "print(df['이용건수'].dtype)"
   ]
  },
  {
   "cell_type": "code",
   "execution_count": 53,
   "id": "f7f9cd96-dc79-4e3a-9865-86636ffbf0e5",
   "metadata": {},
   "outputs": [
    {
     "data": {
      "text/plain": [
       "이용건수\n",
       "1       20614051\n",
       "1.0      2287666\n",
       "2        1884267\n",
       "3         302055\n",
       "2.0       186032\n",
       "4          73285\n",
       "3.0        27058\n",
       "5          22308\n",
       "6           8323\n",
       "4.0         5919\n",
       "7           3541\n",
       "8           1771\n",
       "5.0         1635\n",
       "9            984\n",
       "6.0          639\n",
       "10           556\n",
       "11           330\n",
       "7.0          285\n",
       "12           197\n",
       "8.0          155\n",
       "13           140\n",
       "9.0           97\n",
       "14            88\n",
       "15            59\n",
       "10.0          51\n",
       "16            46\n",
       "17            32\n",
       "11.0          29\n",
       "13.0          23\n",
       "18            19\n",
       "12.0          17\n",
       "20            12\n",
       "14.0           9\n",
       "15.0           8\n",
       "19             8\n",
       "21             7\n",
       "23             5\n",
       "22             4\n",
       "17.0           4\n",
       "16.0           3\n",
       "18.0           2\n",
       "28             2\n",
       "21.0           1\n",
       "25             1\n",
       "19.0           1\n",
       "24             1\n",
       "29             1\n",
       "Name: count, dtype: int64"
      ]
     },
     "execution_count": 53,
     "metadata": {},
     "output_type": "execute_result"
    }
   ],
   "source": [
    "df['이용건수'].value_counts()"
   ]
  },
  {
   "cell_type": "code",
   "execution_count": 55,
   "id": "d7bc3f5f-2e21-42ef-8225-2055af912ef2",
   "metadata": {},
   "outputs": [],
   "source": [
    "df['이용건수'] = df['이용건수'].astype(float).astype(int)"
   ]
  },
  {
   "cell_type": "code",
   "execution_count": 57,
   "id": "dc52fc60-24ac-4e6c-a2ff-a5be507abf64",
   "metadata": {},
   "outputs": [
    {
     "data": {
      "text/plain": [
       "dtype('int32')"
      ]
     },
     "execution_count": 57,
     "metadata": {},
     "output_type": "execute_result"
    }
   ],
   "source": [
    "df['이용건수'].dtype"
   ]
  },
  {
   "cell_type": "code",
   "execution_count": 59,
   "id": "3f230d7c-f506-4865-9f74-d7badbad3826",
   "metadata": {},
   "outputs": [
    {
     "data": {
      "text/html": [
       "<div>\n",
       "<style scoped>\n",
       "    .dataframe tbody tr th:only-of-type {\n",
       "        vertical-align: middle;\n",
       "    }\n",
       "\n",
       "    .dataframe tbody tr th {\n",
       "        vertical-align: top;\n",
       "    }\n",
       "\n",
       "    .dataframe thead th {\n",
       "        text-align: right;\n",
       "    }\n",
       "</style>\n",
       "<table border=\"1\" class=\"dataframe\">\n",
       "  <thead>\n",
       "    <tr style=\"text-align: right;\">\n",
       "      <th></th>\n",
       "      <th>대여일자</th>\n",
       "      <th>대여시간</th>\n",
       "      <th>대여소번호</th>\n",
       "      <th>대여소명</th>\n",
       "      <th>이용건수</th>\n",
       "      <th>이동거리(M)</th>\n",
       "      <th>이용시간(분)</th>\n",
       "    </tr>\n",
       "  </thead>\n",
       "  <tbody>\n",
       "    <tr>\n",
       "      <th>0</th>\n",
       "      <td>2021-01-01</td>\n",
       "      <td>0</td>\n",
       "      <td>1347</td>\n",
       "      <td>1347. 길음래미안아파트817동 상가 앞</td>\n",
       "      <td>2</td>\n",
       "      <td>992.78</td>\n",
       "      <td>13.0</td>\n",
       "    </tr>\n",
       "    <tr>\n",
       "      <th>1</th>\n",
       "      <td>2021-01-01</td>\n",
       "      <td>0</td>\n",
       "      <td>1349</td>\n",
       "      <td>1349. 월계2교 버스정류장 앞</td>\n",
       "      <td>1</td>\n",
       "      <td>1127.5</td>\n",
       "      <td>10.0</td>\n",
       "    </tr>\n",
       "    <tr>\n",
       "      <th>2</th>\n",
       "      <td>2021-01-01</td>\n",
       "      <td>0</td>\n",
       "      <td>1168</td>\n",
       "      <td>1168. 마곡엠밸리10단지 앞</td>\n",
       "      <td>1</td>\n",
       "      <td>0.0</td>\n",
       "      <td>7.0</td>\n",
       "    </tr>\n",
       "    <tr>\n",
       "      <th>3</th>\n",
       "      <td>2021-01-01</td>\n",
       "      <td>0</td>\n",
       "      <td>2619</td>\n",
       "      <td>2619. 석촌고분역 4번출구</td>\n",
       "      <td>1</td>\n",
       "      <td>1658.34</td>\n",
       "      <td>14.0</td>\n",
       "    </tr>\n",
       "    <tr>\n",
       "      <th>4</th>\n",
       "      <td>2021-01-01</td>\n",
       "      <td>0</td>\n",
       "      <td>536</td>\n",
       "      <td>536. 행당역 2번출구 앞</td>\n",
       "      <td>1</td>\n",
       "      <td>743.88</td>\n",
       "      <td>5.0</td>\n",
       "    </tr>\n",
       "  </tbody>\n",
       "</table>\n",
       "</div>"
      ],
      "text/plain": [
       "         대여일자  대여시간  대여소번호                     대여소명  이용건수  이동거리(M)  이용시간(분)\n",
       "0  2021-01-01     0   1347  1347. 길음래미안아파트817동 상가 앞     2   992.78     13.0\n",
       "1  2021-01-01     0   1349       1349. 월계2교 버스정류장 앞     1   1127.5     10.0\n",
       "2  2021-01-01     0   1168        1168. 마곡엠밸리10단지 앞     1      0.0      7.0\n",
       "3  2021-01-01     0   2619         2619. 석촌고분역 4번출구     1  1658.34     14.0\n",
       "4  2021-01-01     0    536          536. 행당역 2번출구 앞     1   743.88      5.0"
      ]
     },
     "execution_count": 59,
     "metadata": {},
     "output_type": "execute_result"
    }
   ],
   "source": [
    "df.head()"
   ]
  },
  {
   "cell_type": "code",
   "execution_count": 75,
   "id": "2b550ee8-e7e3-43b8-96e1-a8ebfb9e5ac9",
   "metadata": {},
   "outputs": [
    {
     "name": "stdout",
     "output_type": "stream",
     "text": [
      "<class 'pandas.core.frame.DataFrame'>\n",
      "Index: 25421727 entries, 0 to 25421802\n",
      "Data columns (total 7 columns):\n",
      " #   Column   Dtype  \n",
      "---  ------   -----  \n",
      " 0   대여일자     object \n",
      " 1   대여시간     int64  \n",
      " 2   대여소번호    int64  \n",
      " 3   대여소명     object \n",
      " 4   이용건수     int32  \n",
      " 5   이동거리(M)  float64\n",
      " 6   이용시간(분)  float64\n",
      "dtypes: float64(2), int32(1), int64(2), object(2)\n",
      "memory usage: 1.4+ GB\n"
     ]
    }
   ],
   "source": [
    "df.info()"
   ]
  },
  {
   "cell_type": "code",
   "execution_count": 77,
   "id": "fbe6310d-6bf1-4690-a716-ac02e3ecba0c",
   "metadata": {},
   "outputs": [
    {
     "data": {
      "text/plain": [
       "이용건수\n",
       "1     22901717\n",
       "2      2070299\n",
       "3       329113\n",
       "4        79204\n",
       "5        23943\n",
       "6         8962\n",
       "7         3826\n",
       "8         1926\n",
       "9         1081\n",
       "10         607\n",
       "11         359\n",
       "12         214\n",
       "13         163\n",
       "14          97\n",
       "15          67\n",
       "16          49\n",
       "17          36\n",
       "18          21\n",
       "20          12\n",
       "19           9\n",
       "21           8\n",
       "23           5\n",
       "22           4\n",
       "28           2\n",
       "25           1\n",
       "24           1\n",
       "29           1\n",
       "Name: count, dtype: int64"
      ]
     },
     "execution_count": 77,
     "metadata": {},
     "output_type": "execute_result"
    }
   ],
   "source": [
    "df['이용건수'].value_counts()"
   ]
  },
  {
   "cell_type": "markdown",
   "id": "92fa9855-ff42-4f76-ac84-5a22080280ac",
   "metadata": {},
   "source": [
    "### 2) 대여일자"
   ]
  },
  {
   "cell_type": "code",
   "execution_count": 79,
   "id": "d7cd0227-2f4f-4975-91e5-09732599b640",
   "metadata": {},
   "outputs": [
    {
     "data": {
      "text/plain": [
       "대여일자\n",
       "2021-09-02    208866\n",
       "2021-04-28    182940\n",
       "2021-04-27    137469\n",
       "2021-09-24    115696\n",
       "2021-09-17    114034\n",
       "               ...  \n",
       "2021-01-08      7679\n",
       "2021-03-04      6599\n",
       "2021-01-07      5350\n",
       "2021-03-01      2750\n",
       "2021-05-16      2213\n",
       "Name: count, Length: 363, dtype: int64"
      ]
     },
     "execution_count": 79,
     "metadata": {},
     "output_type": "execute_result"
    }
   ],
   "source": [
    "df['대여일자'].value_counts()"
   ]
  },
  {
   "cell_type": "code",
   "execution_count": 83,
   "id": "d1ceaac1-a4ea-498c-8575-8fa128a75f6c",
   "metadata": {},
   "outputs": [
    {
     "data": {
      "text/plain": [
       "0"
      ]
     },
     "execution_count": 83,
     "metadata": {},
     "output_type": "execute_result"
    }
   ],
   "source": [
    "df['대여시간'].isnull().sum()"
   ]
  },
  {
   "cell_type": "code",
   "execution_count": 85,
   "id": "c38ed2e1-7a02-4f75-9d3b-63b968b79023",
   "metadata": {},
   "outputs": [
    {
     "data": {
      "text/html": [
       "<div>\n",
       "<style scoped>\n",
       "    .dataframe tbody tr th:only-of-type {\n",
       "        vertical-align: middle;\n",
       "    }\n",
       "\n",
       "    .dataframe tbody tr th {\n",
       "        vertical-align: top;\n",
       "    }\n",
       "\n",
       "    .dataframe thead th {\n",
       "        text-align: right;\n",
       "    }\n",
       "</style>\n",
       "<table border=\"1\" class=\"dataframe\">\n",
       "  <thead>\n",
       "    <tr style=\"text-align: right;\">\n",
       "      <th></th>\n",
       "      <th>대여일자</th>\n",
       "      <th>대여시간</th>\n",
       "      <th>대여소번호</th>\n",
       "      <th>대여소명</th>\n",
       "      <th>이용건수</th>\n",
       "      <th>이동거리(M)</th>\n",
       "      <th>이용시간(분)</th>\n",
       "    </tr>\n",
       "  </thead>\n",
       "  <tbody>\n",
       "  </tbody>\n",
       "</table>\n",
       "</div>"
      ],
      "text/plain": [
       "Empty DataFrame\n",
       "Columns: [대여일자, 대여시간, 대여소번호, 대여소명, 이용건수, 이동거리(M), 이용시간(분)]\n",
       "Index: []"
      ]
     },
     "execution_count": 85,
     "metadata": {},
     "output_type": "execute_result"
    }
   ],
   "source": [
    "df[df['대여시간'] == '\\\\N']"
   ]
  },
  {
   "cell_type": "markdown",
   "id": "34905bf3-34ff-40b0-8d11-959c1cf75600",
   "metadata": {},
   "source": [
    "### 3) 대여소 번호"
   ]
  },
  {
   "cell_type": "code",
   "execution_count": 88,
   "id": "db25da5e-fc59-459f-88ca-6c4a83611a46",
   "metadata": {},
   "outputs": [
    {
     "data": {
      "text/plain": [
       "대여소번호\n",
       "502      68279\n",
       "207      65058\n",
       "2102     56857\n",
       "2715     56771\n",
       "1210     52112\n",
       "         ...  \n",
       "1114         2\n",
       "1476         2\n",
       "2918         1\n",
       "9990         1\n",
       "90002        1\n",
       "Name: count, Length: 2653, dtype: int64"
      ]
     },
     "execution_count": 88,
     "metadata": {},
     "output_type": "execute_result"
    }
   ],
   "source": [
    "df['대여소번호'].value_counts()"
   ]
  },
  {
   "cell_type": "code",
   "execution_count": 90,
   "id": "95463ea0-2ada-4591-a308-22be04a5490c",
   "metadata": {},
   "outputs": [
    {
     "data": {
      "text/plain": [
       "0"
      ]
     },
     "execution_count": 90,
     "metadata": {},
     "output_type": "execute_result"
    }
   ],
   "source": [
    "df['대여소번호'].isnull().sum()"
   ]
  },
  {
   "cell_type": "code",
   "execution_count": 92,
   "id": "fe215ef6-fbba-4a36-8797-4d95071e5f4a",
   "metadata": {},
   "outputs": [
    {
     "data": {
      "text/html": [
       "<div>\n",
       "<style scoped>\n",
       "    .dataframe tbody tr th:only-of-type {\n",
       "        vertical-align: middle;\n",
       "    }\n",
       "\n",
       "    .dataframe tbody tr th {\n",
       "        vertical-align: top;\n",
       "    }\n",
       "\n",
       "    .dataframe thead th {\n",
       "        text-align: right;\n",
       "    }\n",
       "</style>\n",
       "<table border=\"1\" class=\"dataframe\">\n",
       "  <thead>\n",
       "    <tr style=\"text-align: right;\">\n",
       "      <th></th>\n",
       "      <th>대여일자</th>\n",
       "      <th>대여시간</th>\n",
       "      <th>대여소번호</th>\n",
       "      <th>대여소명</th>\n",
       "      <th>이용건수</th>\n",
       "      <th>이동거리(M)</th>\n",
       "      <th>이용시간(분)</th>\n",
       "    </tr>\n",
       "  </thead>\n",
       "  <tbody>\n",
       "  </tbody>\n",
       "</table>\n",
       "</div>"
      ],
      "text/plain": [
       "Empty DataFrame\n",
       "Columns: [대여일자, 대여시간, 대여소번호, 대여소명, 이용건수, 이동거리(M), 이용시간(분)]\n",
       "Index: []"
      ]
     },
     "execution_count": 92,
     "metadata": {},
     "output_type": "execute_result"
    }
   ],
   "source": [
    "df[df['대여소번호'] == '\\\\N']"
   ]
  },
  {
   "cell_type": "markdown",
   "id": "f4044421-b91c-4fca-80c3-13ceeaa0a16d",
   "metadata": {},
   "source": [
    "### 4) 대여소명"
   ]
  },
  {
   "cell_type": "code",
   "execution_count": 95,
   "id": "63663475-31e4-480e-b36c-d6582fc9e30e",
   "metadata": {},
   "outputs": [
    {
     "data": {
      "text/plain": [
       "대여소명\n",
       "502. 뚝섬유원지역 1번출구 앞         68278\n",
       "207. 여의나루역 1번출구 앞          65057\n",
       "2102. 봉림교 교통섬              56857\n",
       "2715.마곡나루역 2번 출구           56771\n",
       "1210. 롯데월드타워(잠실역2번출구 쪽)    52111\n",
       "                           ...  \n",
       "4481. 올림픽?貶?북2문 2              1\n",
       "3672.그라시움 근린공원                 1\n",
       "424. 롯데하이마??(상암월드컵점)           1\n",
       "2177. 신대?嚥?2번 출구               1\n",
       "220. 미성아파트 A??앞                1\n",
       "Name: count, Length: 2732, dtype: int64"
      ]
     },
     "execution_count": 95,
     "metadata": {},
     "output_type": "execute_result"
    }
   ],
   "source": [
    "df['대여소명'].value_counts()"
   ]
  },
  {
   "cell_type": "code",
   "execution_count": 97,
   "id": "6dadb97f-224e-44e3-9d74-768430fc0caa",
   "metadata": {},
   "outputs": [
    {
     "data": {
      "text/plain": [
       "0"
      ]
     },
     "execution_count": 97,
     "metadata": {},
     "output_type": "execute_result"
    }
   ],
   "source": [
    "df['대여소번호'].isnull().sum()"
   ]
  },
  {
   "cell_type": "code",
   "execution_count": 99,
   "id": "ec23af53-10ab-4ef2-8f32-7909337599e9",
   "metadata": {},
   "outputs": [
    {
     "data": {
      "text/html": [
       "<div>\n",
       "<style scoped>\n",
       "    .dataframe tbody tr th:only-of-type {\n",
       "        vertical-align: middle;\n",
       "    }\n",
       "\n",
       "    .dataframe tbody tr th {\n",
       "        vertical-align: top;\n",
       "    }\n",
       "\n",
       "    .dataframe thead th {\n",
       "        text-align: right;\n",
       "    }\n",
       "</style>\n",
       "<table border=\"1\" class=\"dataframe\">\n",
       "  <thead>\n",
       "    <tr style=\"text-align: right;\">\n",
       "      <th></th>\n",
       "      <th>대여일자</th>\n",
       "      <th>대여시간</th>\n",
       "      <th>대여소번호</th>\n",
       "      <th>대여소명</th>\n",
       "      <th>이용건수</th>\n",
       "      <th>이동거리(M)</th>\n",
       "      <th>이용시간(분)</th>\n",
       "    </tr>\n",
       "  </thead>\n",
       "  <tbody>\n",
       "  </tbody>\n",
       "</table>\n",
       "</div>"
      ],
      "text/plain": [
       "Empty DataFrame\n",
       "Columns: [대여일자, 대여시간, 대여소번호, 대여소명, 이용건수, 이동거리(M), 이용시간(분)]\n",
       "Index: []"
      ]
     },
     "execution_count": 99,
     "metadata": {},
     "output_type": "execute_result"
    }
   ],
   "source": [
    "df[df['대여소번호'] == '\\\\N']"
   ]
  },
  {
   "cell_type": "markdown",
   "id": "c74f4588-1800-4bd8-935e-94b213a2f59a",
   "metadata": {},
   "source": [
    "## 3. 전처리한 데이터셋 parquet으로 저장하기"
   ]
  },
  {
   "cell_type": "code",
   "execution_count": 103,
   "id": "f7a5a26f-0367-4705-b231-7fddf3b8f1e6",
   "metadata": {},
   "outputs": [],
   "source": [
    "path_dateset = 'G:/내 드라이브/DataSet/'\n",
    "path_sub = '_최종 병합 파일/서울특별시 공공자전거 대여소별 이용정보(시간대별)/'\n",
    "\n",
    "file_path = path_dateset + path_sub\n",
    "\n",
    "df.to_parquet(file_path + '시간대별_2021.parquet', index=False)"
   ]
  },
  {
   "cell_type": "code",
   "execution_count": 106,
   "id": "fc0d35ec-b932-4c3c-965c-26d119508ede",
   "metadata": {},
   "outputs": [
    {
     "name": "stdout",
     "output_type": "stream",
     "text": [
      "read_parquet time : 3.670543909072876\n"
     ]
    }
   ],
   "source": [
    "import time\n",
    "import pandas as  pd\n",
    "\n",
    "start_time = time.time()\n",
    "filepath = 'G:\\\\내 드라이브\\\\DataSet\\\\_최종 병합 파일\\\\서울특별시 공공자전거 대여소별 이용정보(시간대별)\\\\'\n",
    "filename = '시간대별_2021'\n",
    "df_parquet = pd.read_parquet(filepath + filename + '.parquet')\n",
    "print(\"read_parquet time :\", time.time() - start_time)"
   ]
  },
  {
   "cell_type": "code",
   "execution_count": 108,
   "id": "14f2120d-2241-437e-8568-93552f2e899c",
   "metadata": {},
   "outputs": [
    {
     "data": {
      "text/html": [
       "<div>\n",
       "<style scoped>\n",
       "    .dataframe tbody tr th:only-of-type {\n",
       "        vertical-align: middle;\n",
       "    }\n",
       "\n",
       "    .dataframe tbody tr th {\n",
       "        vertical-align: top;\n",
       "    }\n",
       "\n",
       "    .dataframe thead th {\n",
       "        text-align: right;\n",
       "    }\n",
       "</style>\n",
       "<table border=\"1\" class=\"dataframe\">\n",
       "  <thead>\n",
       "    <tr style=\"text-align: right;\">\n",
       "      <th></th>\n",
       "      <th>대여일자</th>\n",
       "      <th>대여시간</th>\n",
       "      <th>대여소번호</th>\n",
       "      <th>대여소명</th>\n",
       "      <th>이용건수</th>\n",
       "      <th>이동거리(M)</th>\n",
       "      <th>이용시간(분)</th>\n",
       "    </tr>\n",
       "  </thead>\n",
       "  <tbody>\n",
       "    <tr>\n",
       "      <th>0</th>\n",
       "      <td>2021-01-01</td>\n",
       "      <td>0</td>\n",
       "      <td>1347</td>\n",
       "      <td>1347. 길음래미안아파트817동 상가 앞</td>\n",
       "      <td>2</td>\n",
       "      <td>992.78</td>\n",
       "      <td>13.0</td>\n",
       "    </tr>\n",
       "    <tr>\n",
       "      <th>1</th>\n",
       "      <td>2021-01-01</td>\n",
       "      <td>0</td>\n",
       "      <td>1349</td>\n",
       "      <td>1349. 월계2교 버스정류장 앞</td>\n",
       "      <td>1</td>\n",
       "      <td>1127.5</td>\n",
       "      <td>10.0</td>\n",
       "    </tr>\n",
       "    <tr>\n",
       "      <th>2</th>\n",
       "      <td>2021-01-01</td>\n",
       "      <td>0</td>\n",
       "      <td>1168</td>\n",
       "      <td>1168. 마곡엠밸리10단지 앞</td>\n",
       "      <td>1</td>\n",
       "      <td>0.0</td>\n",
       "      <td>7.0</td>\n",
       "    </tr>\n",
       "    <tr>\n",
       "      <th>3</th>\n",
       "      <td>2021-01-01</td>\n",
       "      <td>0</td>\n",
       "      <td>2619</td>\n",
       "      <td>2619. 석촌고분역 4번출구</td>\n",
       "      <td>1</td>\n",
       "      <td>1658.34</td>\n",
       "      <td>14.0</td>\n",
       "    </tr>\n",
       "    <tr>\n",
       "      <th>4</th>\n",
       "      <td>2021-01-01</td>\n",
       "      <td>0</td>\n",
       "      <td>536</td>\n",
       "      <td>536. 행당역 2번출구 앞</td>\n",
       "      <td>1</td>\n",
       "      <td>743.88</td>\n",
       "      <td>5.0</td>\n",
       "    </tr>\n",
       "  </tbody>\n",
       "</table>\n",
       "</div>"
      ],
      "text/plain": [
       "         대여일자  대여시간  대여소번호                     대여소명  이용건수  이동거리(M)  이용시간(분)\n",
       "0  2021-01-01     0   1347  1347. 길음래미안아파트817동 상가 앞     2   992.78     13.0\n",
       "1  2021-01-01     0   1349       1349. 월계2교 버스정류장 앞     1   1127.5     10.0\n",
       "2  2021-01-01     0   1168        1168. 마곡엠밸리10단지 앞     1      0.0      7.0\n",
       "3  2021-01-01     0   2619         2619. 석촌고분역 4번출구     1  1658.34     14.0\n",
       "4  2021-01-01     0    536          536. 행당역 2번출구 앞     1   743.88      5.0"
      ]
     },
     "execution_count": 108,
     "metadata": {},
     "output_type": "execute_result"
    }
   ],
   "source": [
    "df_parquet.head()"
   ]
  },
  {
   "cell_type": "code",
   "execution_count": 110,
   "id": "79b9c60b-6d66-4406-8966-296e3be2c5f7",
   "metadata": {},
   "outputs": [
    {
     "name": "stdout",
     "output_type": "stream",
     "text": [
      "<class 'pandas.core.frame.DataFrame'>\n",
      "RangeIndex: 25421727 entries, 0 to 25421726\n",
      "Data columns (total 7 columns):\n",
      " #   Column   Dtype  \n",
      "---  ------   -----  \n",
      " 0   대여일자     object \n",
      " 1   대여시간     int64  \n",
      " 2   대여소번호    int64  \n",
      " 3   대여소명     object \n",
      " 4   이용건수     int32  \n",
      " 5   이동거리(M)  float64\n",
      " 6   이용시간(분)  float64\n",
      "dtypes: float64(2), int32(1), int64(2), object(2)\n",
      "memory usage: 1.2+ GB\n"
     ]
    }
   ],
   "source": [
    "df_parquet.info()"
   ]
  },
  {
   "cell_type": "code",
   "execution_count": 112,
   "id": "f0cfc8de-a619-47a3-b845-e433828a18bd",
   "metadata": {},
   "outputs": [
    {
     "data": {
      "text/plain": [
       "대여일자       0\n",
       "대여시간       0\n",
       "대여소번호      0\n",
       "대여소명       0\n",
       "이용건수       0\n",
       "이동거리(M)    0\n",
       "이용시간(분)    0\n",
       "dtype: int64"
      ]
     },
     "execution_count": 112,
     "metadata": {},
     "output_type": "execute_result"
    }
   ],
   "source": [
    "df_parquet.isnull().sum()"
   ]
  },
  {
   "cell_type": "code",
   "execution_count": null,
   "id": "7dcc9513-766c-4081-966e-6907ae70ace0",
   "metadata": {},
   "outputs": [],
   "source": []
  }
 ],
 "metadata": {
  "kernelspec": {
   "display_name": "Python 3 (ipykernel)",
   "language": "python",
   "name": "python3"
  },
  "language_info": {
   "codemirror_mode": {
    "name": "ipython",
    "version": 3
   },
   "file_extension": ".py",
   "mimetype": "text/x-python",
   "name": "python",
   "nbconvert_exporter": "python",
   "pygments_lexer": "ipython3",
   "version": "3.12.4"
  }
 },
 "nbformat": 4,
 "nbformat_minor": 5
}
