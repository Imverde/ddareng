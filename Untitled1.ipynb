{
 "cells": [
  {
   "cell_type": "code",
   "execution_count": 3,
   "id": "89fac0d9-bae4-4ae4-9cad-ecc07d7edfe0",
   "metadata": {},
   "outputs": [],
   "source": [
    "# 사용자 정의함수 경로 설정\n",
    "import sys\n",
    "sys.path.append(\"G:/내 드라이브/Source/_Custom_Function\")\n",
    "# 사용자 정의함수 불러오기\n",
    "import ExcelFile_Merge as em\n",
    "import ExcelFile_Read as er"
   ]
  },
  {
   "cell_type": "code",
   "execution_count": 7,
   "id": "c1e052ef-cb60-485b-8838-ccd8d12630d1",
   "metadata": {},
   "outputs": [
    {
     "ename": "NameError",
     "evalue": "name 'df_2020' is not defined",
     "output_type": "error",
     "traceback": [
      "\u001b[1;31m---------------------------------------------------------------------------\u001b[0m",
      "\u001b[1;31mNameError\u001b[0m                                 Traceback (most recent call last)",
      "Cell \u001b[1;32mIn[7], line 2\u001b[0m\n\u001b[0;32m      1\u001b[0m \u001b[38;5;28;01mimport\u001b[39;00m \u001b[38;5;21;01mExcelFile_EDA\u001b[39;00m \u001b[38;5;28;01mas\u001b[39;00m \u001b[38;5;21;01mee\u001b[39;00m\n\u001b[1;32m----> 2\u001b[0m ee\u001b[38;5;241m.\u001b[39mss_isnull(\u001b[43mdf_2020\u001b[49m)\n",
      "\u001b[1;31mNameError\u001b[0m: name 'df_2020' is not defined"
     ]
    }
   ],
   "source": [
    "import ExcelFile_EDA as ee\n",
    "ee.ss_isnull(df_)"
   ]
  },
  {
   "cell_type": "code",
   "execution_count": null,
   "id": "0766bf68-171f-4d05-905a-571c71607118",
   "metadata": {},
   "outputs": [],
   "source": []
  }
 ],
 "metadata": {
  "kernelspec": {
   "display_name": "Python 3 (ipykernel)",
   "language": "python",
   "name": "python3"
  },
  "language_info": {
   "codemirror_mode": {
    "name": "ipython",
    "version": 3
   },
   "file_extension": ".py",
   "mimetype": "text/x-python",
   "name": "python",
   "nbconvert_exporter": "python",
   "pygments_lexer": "ipython3",
   "version": "3.12.4"
  }
 },
 "nbformat": 4,
 "nbformat_minor": 5
}
