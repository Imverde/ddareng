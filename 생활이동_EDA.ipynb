{
 "cells": [
  {
   "cell_type": "code",
   "execution_count": 1,
   "id": "f9ed5700-484d-4b23-9f14-d8ada1a73847",
   "metadata": {},
   "outputs": [],
   "source": [
    "import pandas as pd\n",
    "import sys\n",
    "sys.path.append('G:/내 드라이브/Source/_Custom_Function')\n",
    "import time\n",
    "import ExcelFile_Read as er"
   ]
  },
  {
   "cell_type": "code",
   "execution_count": 3,
   "id": "9c382b87-6e1b-4e46-86f0-4da6b7b8a14b",
   "metadata": {},
   "outputs": [],
   "source": [
    "path_dateset = 'G:/내 드라이브/DataSet/'\n",
    "path_sub = '_최종 병합 파일/서울 생활이동/2020/생활이동_행정동_2020.01.csv'\n",
    "\n",
    "file_path = path_dateset + path_sub"
   ]
  },
  {
   "cell_type": "code",
   "execution_count": 5,
   "id": "1c46191f-e1f8-4d4d-99f0-b58a3d9f4fd2",
   "metadata": {},
   "outputs": [
    {
     "name": "stdout",
     "output_type": "stream",
     "text": [
      "time : 2.3059866428375244\n"
     ]
    }
   ],
   "source": [
    "start_time = time.time()  # 시작 시간 저장\n",
    "\n",
    "_dtype={'성별': 'object',\n",
    "       '운동량': 'object',\n",
    "       '탄소량': 'object'}\n",
    "df_rtn = er.Read_dask(file_path, _dtype)\n",
    "\n",
    "\n",
    "df_rtn = er.Read_dask(file_path, _dtype)\n",
    "print(\"time :\", time.time() - start_time) # 현재시간 - 시작시간"
   ]
  },
  {
   "cell_type": "code",
   "execution_count": 7,
   "id": "7a0d8218-b4cf-4b3f-a002-c665c8d2f97f",
   "metadata": {},
   "outputs": [
    {
     "data": {
      "text/html": [
       "<div>\n",
       "<style scoped>\n",
       "    .dataframe tbody tr th:only-of-type {\n",
       "        vertical-align: middle;\n",
       "    }\n",
       "\n",
       "    .dataframe tbody tr th {\n",
       "        vertical-align: top;\n",
       "    }\n",
       "\n",
       "    .dataframe thead th {\n",
       "        text-align: right;\n",
       "    }\n",
       "</style>\n",
       "<table border=\"1\" class=\"dataframe\">\n",
       "  <thead>\n",
       "    <tr style=\"text-align: right;\">\n",
       "      <th></th>\n",
       "      <th>대상연월</th>\n",
       "      <th>요일</th>\n",
       "      <th>도착시간</th>\n",
       "      <th>출발 행정동 코드</th>\n",
       "      <th>도착 행정동 코드</th>\n",
       "      <th>성별</th>\n",
       "      <th>나이</th>\n",
       "      <th>이동유형</th>\n",
       "      <th>평균 이동 시간(분)</th>\n",
       "      <th>이동인구(합)</th>\n",
       "    </tr>\n",
       "  </thead>\n",
       "  <tbody>\n",
       "    <tr>\n",
       "      <th>0</th>\n",
       "      <td>202001</td>\n",
       "      <td>일</td>\n",
       "      <td>4</td>\n",
       "      <td>1101053</td>\n",
       "      <td>1101053</td>\n",
       "      <td>F</td>\n",
       "      <td>10</td>\n",
       "      <td>EH</td>\n",
       "      <td>20</td>\n",
       "      <td>5.93</td>\n",
       "    </tr>\n",
       "    <tr>\n",
       "      <th>1</th>\n",
       "      <td>202001</td>\n",
       "      <td>일</td>\n",
       "      <td>4</td>\n",
       "      <td>1101053</td>\n",
       "      <td>1101053</td>\n",
       "      <td>F</td>\n",
       "      <td>20</td>\n",
       "      <td>WW</td>\n",
       "      <td>10</td>\n",
       "      <td>*</td>\n",
       "    </tr>\n",
       "    <tr>\n",
       "      <th>2</th>\n",
       "      <td>202001</td>\n",
       "      <td>일</td>\n",
       "      <td>4</td>\n",
       "      <td>1101053</td>\n",
       "      <td>1101053</td>\n",
       "      <td>F</td>\n",
       "      <td>20</td>\n",
       "      <td>EE</td>\n",
       "      <td>10</td>\n",
       "      <td>*</td>\n",
       "    </tr>\n",
       "    <tr>\n",
       "      <th>3</th>\n",
       "      <td>202001</td>\n",
       "      <td>일</td>\n",
       "      <td>4</td>\n",
       "      <td>1101053</td>\n",
       "      <td>1101053</td>\n",
       "      <td>F</td>\n",
       "      <td>40</td>\n",
       "      <td>EW</td>\n",
       "      <td>10</td>\n",
       "      <td>3.44</td>\n",
       "    </tr>\n",
       "    <tr>\n",
       "      <th>4</th>\n",
       "      <td>202001</td>\n",
       "      <td>일</td>\n",
       "      <td>4</td>\n",
       "      <td>1101053</td>\n",
       "      <td>1101053</td>\n",
       "      <td>F</td>\n",
       "      <td>50</td>\n",
       "      <td>HE</td>\n",
       "      <td>20</td>\n",
       "      <td>3.1</td>\n",
       "    </tr>\n",
       "  </tbody>\n",
       "</table>\n",
       "</div>"
      ],
      "text/plain": [
       "     대상연월 요일  도착시간  출발 행정동 코드  도착 행정동 코드 성별  나이 이동유형  평균 이동 시간(분) 이동인구(합)\n",
       "0  202001  일     4    1101053    1101053  F  10   EH           20    5.93\n",
       "1  202001  일     4    1101053    1101053  F  20   WW           10       *\n",
       "2  202001  일     4    1101053    1101053  F  20   EE           10       *\n",
       "3  202001  일     4    1101053    1101053  F  40   EW           10    3.44\n",
       "4  202001  일     4    1101053    1101053  F  50   HE           20     3.1"
      ]
     },
     "execution_count": 7,
     "metadata": {},
     "output_type": "execute_result"
    }
   ],
   "source": [
    "df_rtn.head()"
   ]
  },
  {
   "cell_type": "code",
   "execution_count": 13,
   "id": "ba6dbeda-6ded-4252-8fd6-38679ecf3dd9",
   "metadata": {},
   "outputs": [],
   "source": [
    "df_rtn = df_rtn.compute()"
   ]
  },
  {
   "cell_type": "code",
   "execution_count": 15,
   "id": "d60a0c17-1aa2-41a1-b31d-be0b4071c10d",
   "metadata": {},
   "outputs": [
    {
     "name": "stdout",
     "output_type": "stream",
     "text": [
      "<class 'pandas.core.frame.DataFrame'>\n",
      "Index: 130620476 entries, 0 to 1406044\n",
      "Data columns (total 10 columns):\n",
      " #   Column       Dtype \n",
      "---  ------       ----- \n",
      " 0   대상연월         int64 \n",
      " 1   요일           object\n",
      " 2   도착시간         int64 \n",
      " 3   출발 행정동 코드    int64 \n",
      " 4   도착 행정동 코드    int64 \n",
      " 5   성별           object\n",
      " 6   나이           int64 \n",
      " 7   이동유형         object\n",
      " 8   평균 이동 시간(분)  int64 \n",
      " 9   이동인구(합)      object\n",
      "dtypes: int64(6), object(4)\n",
      "memory usage: 10.7+ GB\n"
     ]
    }
   ],
   "source": [
    "df_rtn.info()"
   ]
  },
  {
   "cell_type": "code",
   "execution_count": 11,
   "id": "ac0386a9-9ec5-4d44-a276-62c673a8b792",
   "metadata": {},
   "outputs": [
    {
     "data": {
      "text/plain": [
       "Dask Series Structure:\n",
       "npartitions=1\n",
       "나이             int64\n",
       "평균 이동 시간(분)      ...\n",
       "Dask Name: sum, 4 expressions\n",
       "Expr=(~ NotNull(frame=ReadCSV(ea42e7b))).sum()"
      ]
     },
     "execution_count": 11,
     "metadata": {},
     "output_type": "execute_result"
    }
   ],
   "source": [
    "df_rtn.isnull().sum()"
   ]
  },
  {
   "cell_type": "code",
   "execution_count": null,
   "id": "b4ecb4b7-cd3e-4d02-832a-9047a6870947",
   "metadata": {},
   "outputs": [],
   "source": []
  }
 ],
 "metadata": {
  "kernelspec": {
   "display_name": "Python 3 (ipykernel)",
   "language": "python",
   "name": "python3"
  },
  "language_info": {
   "codemirror_mode": {
    "name": "ipython",
    "version": 3
   },
   "file_extension": ".py",
   "mimetype": "text/x-python",
   "name": "python",
   "nbconvert_exporter": "python",
   "pygments_lexer": "ipython3",
   "version": "3.12.4"
  }
 },
 "nbformat": 4,
 "nbformat_minor": 5
}
