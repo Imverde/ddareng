{
 "cells": [
  {
   "cell_type": "code",
   "execution_count": 19,
   "id": "bfa316c8-5870-43f2-8cab-23c943366f7f",
   "metadata": {},
   "outputs": [],
   "source": [
    "import os\n",
    "import pandas as pd"
   ]
  },
  {
   "cell_type": "code",
   "execution_count": 21,
   "id": "90b73ce0-b7e6-4a79-b573-d92d1be0c314",
   "metadata": {},
   "outputs": [],
   "source": [
    "path_dateset = 'G:/내 드라이브/DataSet/'"
   ]
  },
  {
   "cell_type": "code",
   "execution_count": 23,
   "id": "ab0ab13a-f829-4731-930c-5efad99a2fd0",
   "metadata": {},
   "outputs": [],
   "source": [
    "def extract_extension(file_path):\n",
    "    _, file_extension = os.path.splitext(file_path)\n",
    "    return file_extension"
   ]
  },
  {
   "cell_type": "code",
   "execution_count": 33,
   "id": "0de3b8ba-aa21-4717-8bf6-fec35f20484f",
   "metadata": {},
   "outputs": [
    {
     "data": {
      "text/plain": [
       "'.csv'"
      ]
     },
     "execution_count": 33,
     "metadata": {},
     "output_type": "execute_result"
    }
   ],
   "source": [
    "# extract_extension('G:/내 드라이브/DataSet/서울 생활이동/2023/생활이동_행정동_202302/생활이동_행정동_2023.02_00시.csv')"
   ]
  },
  {
   "cell_type": "code",
   "execution_count": 25,
   "id": "44ac462b-e5a9-4941-abb6-19992d2062fd",
   "metadata": {},
   "outputs": [],
   "source": [
    "def extract_filename(file_path):\n",
    "    file_name = os.path.basename(file_path)\n",
    "    filename_without_extension, _ = os.path.splitext(file_name)\n",
    "    return filename_without_extension"
   ]
  },
  {
   "cell_type": "code",
   "execution_count": 27,
   "id": "a2845f90-5a9e-41f1-86de-02a3edaf11f3",
   "metadata": {},
   "outputs": [],
   "source": [
    "def read_file(file_path):\n",
    "    extension = extract_extension(file_path)\n",
    "    if \".xlsx\" == extension:\n",
    "        return pd.read_excel(file_path)\n",
    "    if \".csv\" == extension:\n",
    "        try:\n",
    "            return pd.read_csv(file_path, encoding='cp949')\n",
    "        except:\n",
    "            return pd.read_csv(file_path, encoding='utf-8')"
   ]
  },
  {
   "cell_type": "code",
   "execution_count": 29,
   "id": "967cfe13-e4be-4706-8373-ca2bf4ec2c89",
   "metadata": {},
   "outputs": [],
   "source": [
    "def check_file(path_dateset, path_sub):\n",
    "    path = path_dateset + path_sub\n",
    "    #파일 경로명 변경\n",
    "    file_list = os.listdir(path)\n",
    "    file_lists = [file for file in file_list if file.endswith((\".csv\", \".xlsx\"))]\n",
    "    excel = pd.DataFrame()\n",
    "    file_list.sort()\n",
    "    print('path : ', path)\n",
    "    \n",
    "    for _, file in enumerate(file_lists):\n",
    "        df = read_file(path + file)\n",
    "    \n",
    "        print('==============================================================')\n",
    "        print(extract_extension(file) + ', ' + file + ', ' + str(len(df)))\n",
    "        print(list(df.columns))\n",
    "        print(list(df.iloc[1]))"
   ]
  },
  {
   "cell_type": "code",
   "execution_count": 31,
   "id": "319084b2-65dc-4396-81f2-b8cbff31dc79",
   "metadata": {},
   "outputs": [],
   "source": [
    "def merge_file(path_dateset, path_sub):\n",
    "    path = path_dateset + path_sub\n",
    "    #파일 경로명 변경\n",
    "    file_list = os.listdir(path)\n",
    "    file_lists = [file for file in file_list if file.endswith((\".csv\", \".xlsx\"))]\n",
    "    excel = pd.DataFrame()\n",
    "    file_list.sort()\n",
    "    print('path : ', path)\n",
    "    \n",
    "    for i, file in enumerate(file_lists):\n",
    "        df = read_file(path + file)\n",
    "        \n",
    "        if (i > 0):\n",
    "            df = df.iloc[1:]\n",
    "\n",
    "        # excel = excel.append(df , ignore_index=True) #파일 하나에 다른 파일 추가하기(파일 합치기)\n",
    "        excel = pd.concat([excel, df], ignore_index=True)        \n",
    "        \n",
    "        print('==============================================================')\n",
    "        print(extract_extension(file) + ', ' + file + ', ' + str(len(df)))\n",
    "        print(list(df.columns))\n",
    "\n",
    "    # excel.to_csv(path+'merge.csv',index=False,encoding='euc-kr')\n",
    "    # excel.to_csv(path + '생활이동_행정동_2024.01.csv', index=False, encoding='cp949')\n",
    "    excel.to_csv(path + '생활이동_행정동_2022.03.csv', index=False, encoding='utf-8')"
   ]
  },
  {
   "cell_type": "code",
   "execution_count": 33,
   "id": "6cb5b78f-014d-4378-87ac-d43ee5825531",
   "metadata": {},
   "outputs": [],
   "source": [
    "def merge2_file(path_dateset, path_sub, new_filename = 'merge', columns = \"\"):\n",
    "    path = path_dateset + path_sub\n",
    "    #파일 경로명 변경\n",
    "    file_list = os.listdir(path)\n",
    "    file_lists = [file for file in file_list if file.endswith((\".csv\", \".xlsx\"))]\n",
    "    excel = pd.DataFrame()\n",
    "    print('path : ', path)\n",
    "    for i, file in enumerate(file_lists):\n",
    "        df = read_file(path + file)\n",
    "        if (i > 0):\n",
    "            if columns == \"\":\n",
    "                df = df.iloc[1:]\n",
    "            else:\n",
    "                df = df.iloc[1:][columns]\n",
    "        else:\n",
    "            if columns == \"\":\n",
    "                df = df\n",
    "            else:\n",
    "                df = df[columns]\n",
    "        # excel = excel.append(df , ignore_index=True) #파일 하나에 다른 파일 추가하기(파일 합치기)\n",
    "        excel = pd.concat([excel, df], ignore_index=True)\n",
    "        print('==============================================================')\n",
    "        print(extract_extension(file) + ', ' + file + ', ' + str(len(df)))\n",
    "        print(list(df.columns))\n",
    "    # excel.to_csv(path+'merge.csv',index=False,encoding='euc-kr')\n",
    "    # excel.to_csv(path + new_filename + '.csv', index=False, encoding='cp949')\n",
    "    excel.to_csv(path + new_filename + '.csv', index=False, encoding='utf-8')"
   ]
  },
  {
   "cell_type": "code",
   "execution_count": 5,
   "id": "f6986d97-9858-4d05-9f72-2bd406ce656d",
   "metadata": {},
   "outputs": [
    {
     "name": "stdout",
     "output_type": "stream",
     "text": [
      "서울 생활이동/2023/생활이동_행정동_202303/\n",
      "서울 생활이동_2023.03\n",
      "Err :  서울 생활이동/2023/생활이동_행정동_202303/\n",
      "서울 생활이동/2023/생활이동_행정동_202304/\n",
      "서울 생활이동_2023.04\n",
      "Err :  서울 생활이동/2023/생활이동_행정동_202304/\n",
      "서울 생활이동/2023/생활이동_행정동_202305/\n",
      "서울 생활이동_2023.05\n",
      "Err :  서울 생활이동/2023/생활이동_행정동_202305/\n",
      "서울 생활이동/2023/생활이동_행정동_202306/\n",
      "서울 생활이동_2023.06\n",
      "Err :  서울 생활이동/2023/생활이동_행정동_202306/\n",
      "서울 생활이동/2023/생활이동_행정동_202307/\n",
      "서울 생활이동_2023.07\n",
      "Err :  서울 생활이동/2023/생활이동_행정동_202307/\n",
      "서울 생활이동/2023/생활이동_행정동_202308/\n",
      "서울 생활이동_2023.08\n",
      "Err :  서울 생활이동/2023/생활이동_행정동_202308/\n",
      "서울 생활이동/2023/생활이동_행정동_202309/\n",
      "서울 생활이동_2023.09\n",
      "Err :  서울 생활이동/2023/생활이동_행정동_202309/\n",
      "서울 생활이동/2023/생활이동_행정동_202310/\n",
      "서울 생활이동_2023.10\n",
      "Err :  서울 생활이동/2023/생활이동_행정동_202310/\n",
      "서울 생활이동/2023/생활이동_행정동_202311/\n",
      "서울 생활이동_2023.11\n",
      "Err :  서울 생활이동/2023/생활이동_행정동_202311/\n",
      "서울 생활이동/2023/생활이동_행정동_202312/\n",
      "서울 생활이동_2023.12\n",
      "Err :  서울 생활이동/2023/생활이동_행정동_202312/\n"
     ]
    }
   ],
   "source": [
    "# 생활이동 데이터 배치\n",
    "year = '2022'   # '2021', '2022', '2023'\n",
    "months = ['03', '04', '05', '06', '07', '08', '09', '10', '11', '12']\n",
    "for month in months:\n",
    "    path_sub = '서울 생활이동/' + year + '/생활이동_행정동_' + year + month + '/'\n",
    "    try:\n",
    "        print(path_sub)\n",
    "        print('서울 생활이동_' + year + '.' + month)\n",
    "        merge2_file(path_dateset, path_sub, '서울 생활이동_' + year + month, '')\n",
    "    except:\n",
    "        print('Err : ', path_sub)"
   ]
  },
  {
   "cell_type": "code",
   "execution_count": null,
   "id": "b3b90f95-4f9e-4f2a-9451-35cbd07802c9",
   "metadata": {},
   "outputs": [],
   "source": []
  }
 ],
 "metadata": {
  "kernelspec": {
   "display_name": "Python 3 (ipykernel)",
   "language": "python",
   "name": "python3"
  },
  "language_info": {
   "codemirror_mode": {
    "name": "ipython",
    "version": 3
   },
   "file_extension": ".py",
   "mimetype": "text/x-python",
   "name": "python",
   "nbconvert_exporter": "python",
   "pygments_lexer": "ipython3",
   "version": "3.12.4"
  }
 },
 "nbformat": 4,
 "nbformat_minor": 5
}
