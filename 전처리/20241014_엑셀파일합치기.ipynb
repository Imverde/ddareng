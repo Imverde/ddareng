{
 "cells": [
  {
   "cell_type": "markdown",
   "id": "a63d1ca6-9e94-486e-b746-8a76e7a35ecb",
   "metadata": {},
   "source": [
    "### 라이브러리 임포트"
   ]
  },
  {
   "cell_type": "code",
   "execution_count": null,
   "id": "428dc1ef-fef0-4ab9-9ad1-b285e25860d9",
   "metadata": {},
   "outputs": [],
   "source": [
    "import os\n",
    "import pandas as pd"
   ]
  },
  {
   "cell_type": "markdown",
   "id": "cca518b9-919e-4018-8542-3a8de9290fc4",
   "metadata": {},
   "source": [
    "### 기본경로 설정"
   ]
  },
  {
   "cell_type": "code",
   "execution_count": null,
   "id": "21a2c01b-0505-4297-9ad9-30845d1d1cc8",
   "metadata": {},
   "outputs": [],
   "source": [
    "path_dateset = 'G:/내 드라이브/DataSet/'"
   ]
  },
  {
   "cell_type": "markdown",
   "id": "281e4df1-4a75-4b57-8a09-2be6063a84ea",
   "metadata": {},
   "source": [
    "### 확장자 가져오기 (Ex) .csv, .xlsx"
   ]
  },
  {
   "cell_type": "code",
   "execution_count": null,
   "id": "e113aae7-4b38-4fc1-9119-d785be27d199",
   "metadata": {},
   "outputs": [],
   "source": [
    "def extract_extension(file_path):\n",
    "    _, file_extension = os.path.splitext(file_path)\n",
    "    return file_extension"
   ]
  },
  {
   "cell_type": "markdown",
   "id": "e32ee202-fcdc-41bd-811e-e6fbf2aa9f02",
   "metadata": {},
   "source": [
    "### 경로로 파일 잘 가져와 지는지 확인하기"
   ]
  },
  {
   "cell_type": "code",
   "execution_count": null,
   "id": "6bfcb1be-e3d6-4c28-b3be-136b6f24daf6",
   "metadata": {},
   "outputs": [],
   "source": [
    "extract_extension('G:/내 드라이브/DataSet/서울특별시 공공자전거 이용정보(일별)/서울특별시 공공자전거 이용정보(일별)_2406.csv')"
   ]
  },
  {
   "cell_type": "markdown",
   "id": "6d321cd8-967b-427f-bad1-e185b4717b08",
   "metadata": {},
   "source": [
    "### 파일명 가져오기"
   ]
  },
  {
   "cell_type": "code",
   "execution_count": null,
   "id": "43ae0d00-0162-4823-b7dc-1ab47ece2f19",
   "metadata": {},
   "outputs": [],
   "source": [
    "def extract_filename(file_path):\n",
    "    file_name = os.path.basename(file_path)\n",
    "    filename_without_extension, _ = os.path.splitext(file_name)\n",
    "    return filename_without_extension"
   ]
  },
  {
   "cell_type": "code",
   "execution_count": null,
   "id": "d34538c4-8615-4adc-8c00-599f9e8d39c0",
   "metadata": {},
   "outputs": [],
   "source": [
    "extract_filename('G:/내 드라이브/DataSet/서울특별시 공공자전거 이용정보(일별)/서울특별시 공공자전거 이용정보(일별)_2406.csv')"
   ]
  },
  {
   "cell_type": "markdown",
   "id": "613221c9-9fb4-428e-b00c-d747613572a2",
   "metadata": {},
   "source": [
    "### 파일 읽기"
   ]
  },
  {
   "cell_type": "code",
   "execution_count": null,
   "id": "931073fe-015b-4f6f-b5c5-36e57f468c9a",
   "metadata": {},
   "outputs": [],
   "source": [
    "def read_file(file_path):\n",
    "    extension = extract_extension(file_path)\n",
    "    if \".xlsx\" == extension:\n",
    "        return pd.read_excel(file_path)\n",
    "    if \".csv\" == extension:\n",
    "        return pd.read_csv(file_path, encoding='cp949')"
   ]
  },
  {
   "cell_type": "markdown",
   "id": "97f1d7ff-d51d-4373-b5bd-5297ac79e3c1",
   "metadata": {},
   "source": [
    "### 특정 폴더의 csx, xlsx 파일들 확인"
   ]
  },
  {
   "cell_type": "code",
   "execution_count": null,
   "id": "644066d7-f383-49e5-add6-dbf5cfbf2cba",
   "metadata": {},
   "outputs": [],
   "source": [
    "def check_file(path_dateset, path_sub):\n",
    "    path = path_dateset + path_sub\n",
    "    \n",
    "    #파일 경로명 변경\n",
    "    file_list = os.listdir(path)\n",
    "    file_lists = [file for file in file_list if file.endswith((\".csv\", \".xlsx\"))]\n",
    "    excel = pd.DataFrame()\n",
    "    \n",
    "    print('path : ', path)\n",
    "    \n",
    "    for _, file in enumerate(file_lists):\n",
    "        df = read_file(path + file)\n",
    "    \n",
    "        print('==============================================================')\n",
    "        print(extract_extension(file) + ', ' + file + ', ' + str(len(df)))\n",
    "        print(list(df.columns))\n",
    "        print(list(df.iloc[1]))"
   ]
  },
  {
   "cell_type": "markdown",
   "id": "6eb4e9bb-fce3-43e6-b13b-517e3751d72f",
   "metadata": {},
   "source": [
    "### 특정 폴더의 csx, xlsx 파일들 합치기"
   ]
  },
  {
   "cell_type": "code",
   "execution_count": null,
   "id": "e3622b5b-599c-4cbd-8934-3e76e73d9506",
   "metadata": {},
   "outputs": [],
   "source": [
    "def merge_file(path_dateset, path_sub, new_filename, columns):\n",
    "    path = path_dateset + path_sub\n",
    "    \n",
    "    #파일 경로명 변경\n",
    "    file_list = os.listdir(path)\n",
    "    file_lists = [file for file in file_list if file.endswith((\".csv\", \".xlsx\"))]\n",
    "    excel = pd.DataFrame()\n",
    "    \n",
    "    print('path : ', path)\n",
    "    \n",
    "    for i, file in enumerate(file_lists):\n",
    "        df = read_file(path + file)\n",
    "        \n",
    "        if (i > 0):\n",
    "            df = df.iloc[1:][columns]\n",
    "        else:\n",
    "            df = df[columns]\n",
    "\n",
    "        # excel = excel.append(df , ignore_index=True) #파일 하나에 다른 파일 추가하기(파일 합치기)\n",
    "        excel = pd.concat([excel, df], ignore_index=True)        \n",
    "        \n",
    "        print('==============================================================')\n",
    "        print(extract_extension(file) + ', ' + file + ', ' + str(len(df)))\n",
    "        print(list(df.columns))\n",
    "\n",
    "    # excel.to_csv(path+'merge.csv',index=False,encoding='euc-kr')\n",
    "    excel.to_csv(path + new_filename + '.csv', index=False, encoding='cp949')"
   ]
  },
  {
   "cell_type": "markdown",
   "id": "11c1f004-9d92-4623-a04f-31c375236a4e",
   "metadata": {},
   "source": [
    "### 서울특별시 공공자전거 이용정보(일별)"
   ]
  },
  {
   "cell_type": "code",
   "execution_count": null,
   "id": "d22bd05b-d017-4ed3-a2fd-3e676c2c06f8",
   "metadata": {},
   "outputs": [],
   "source": [
    "path_sub = '서울특별시 공공자전거 이용정보(일별)/'\n",
    "check_file(path_dateset, path_sub)"
   ]
  },
  {
   "cell_type": "code",
   "execution_count": null,
   "id": "fcb9e5e3-5150-408c-9331-71f28119edec",
   "metadata": {},
   "outputs": [],
   "source": [
    "merge_file(path_dateset, path_sub)"
   ]
  },
  {
   "cell_type": "markdown",
   "id": "0c796898-3b3c-4a59-af56-05bfb15c1d19",
   "metadata": {},
   "source": [
    "### 서울시 따릉이 대여소별 대여 반납 승객수 정보"
   ]
  },
  {
   "cell_type": "code",
   "execution_count": 202,
   "id": "cd01979d-93af-44dc-a940-0ff9aa569cc3",
   "metadata": {},
   "outputs": [
    {
     "name": "stdout",
     "output_type": "stream",
     "text": [
      "path :  G:/내 드라이브/DataSet/서울시 따릉이 대여소별 대여 반납 승객수 정보/tpss_bcycl_od_statnhm_202301/\n",
      "==============================================================\n",
      ".csv, tpss_bcycl_od_statnhm_20230108.csv, 86946\n",
      "['기준_날짜', '기준_시간대', '시작_대여소_ID', '종료_대여소_ID', '전체_건수', '전체_이용_분', '전체_이용_거리']\n",
      "[20230108, 0, 'ST-1730', 'ST-1730', 1, 0, 0]\n",
      "==============================================================\n",
      ".csv, tpss_bcycl_od_statnhm_20230107.csv, 83596\n",
      "['기준_날짜', '기준_시간대', '시작_대여소_ID', '종료_대여소_ID', '전체_건수', '전체_이용_분', '전체_이용_거리']\n",
      "[20230107, 0, 'ST-224', 'ST-224', 1, 1, 90]\n",
      "==============================================================\n",
      ".csv, tpss_bcycl_od_statnhm_20230106.csv, 126153\n",
      "['기준_날짜', '기준_시간대', '시작_대여소_ID', '종료_대여소_ID', '전체_건수', '전체_이용_분', '전체_이용_거리']\n",
      "[20230106, 0, 'ST-286', 'ST-286', 1, 0, 0]\n",
      "==============================================================\n",
      ".csv, tpss_bcycl_od_statnhm_20230105.csv, 137121\n",
      "['기준_날짜', '기준_시간대', '시작_대여소_ID', '종료_대여소_ID', '전체_건수', '전체_이용_분', '전체_이용_거리']\n",
      "[20230105, 0, 'ST-278', 'ST-278', 1, 0, 0]\n",
      "==============================================================\n",
      ".csv, tpss_bcycl_od_statnhm_20230101.csv, 72922\n",
      "['기준_날짜', '기준_시간대', '시작_대여소_ID', '종료_대여소_ID', '전체_건수', '전체_이용_분', '전체_이용_거리']\n",
      "[20230101, 0, 'ST-2127', 'ST-2127', 1, 0, 0]\n",
      "==============================================================\n",
      ".csv, tpss_bcycl_od_statnhm_20230104.csv, 135136\n",
      "['기준_날짜', '기준_시간대', '시작_대여소_ID', '종료_대여소_ID', '전체_건수', '전체_이용_분', '전체_이용_거리']\n",
      "[20230104, 0, 'ST-563', 'ST-563', 1, 0, 60]\n",
      "==============================================================\n",
      ".csv, tpss_bcycl_od_statnhm_20230103.csv, 122858\n",
      "['기준_날짜', '기준_시간대', '시작_대여소_ID', '종료_대여소_ID', '전체_건수', '전체_이용_분', '전체_이용_거리']\n",
      "[20230103, 0, 'ST-2538', 'ST-2538', 2, 0, 0]\n",
      "==============================================================\n",
      ".csv, tpss_bcycl_od_statnhm_20230102.csv, 113500\n",
      "['기준_날짜', '기준_시간대', '시작_대여소_ID', '종료_대여소_ID', '전체_건수', '전체_이용_분', '전체_이용_거리']\n",
      "[20230102, 0, 'ST-3108', 'ST-3108', 1, 0, 0]\n",
      "==============================================================\n",
      ".csv, tpss_bcycl_od_statnhm_20230113.csv, 42178\n",
      "['기준_날짜', '기준_시간대', '시작_대여소_ID', '종료_대여소_ID', '전체_건수', '전체_이용_분', '전체_이용_거리']\n",
      "[20230113, 5, 'ST-1260', 'ST-1260', 1, 0, 0]\n",
      "==============================================================\n",
      ".csv, tpss_bcycl_od_statnhm_20230112.csv, 173342\n",
      "['기준_날짜', '기준_시간대', '시작_대여소_ID', '종료_대여소_ID', '전체_건수', '전체_이용_분', '전체_이용_거리']\n",
      "[20230112, 0, 'ST-3148', 'ST-3148', 1, 0, 0]\n",
      "==============================================================\n",
      ".csv, tpss_bcycl_od_statnhm_20230111.csv, 162456\n",
      "['기준_날짜', '기준_시간대', '시작_대여소_ID', '종료_대여소_ID', '전체_건수', '전체_이용_분', '전체_이용_거리']\n",
      "[20230111, 0, 'ST-1822', 'ST-1822', 1, 0, 0]\n",
      "==============================================================\n",
      ".csv, tpss_bcycl_od_statnhm_20230110.csv, 159983\n",
      "['기준_날짜', '기준_시간대', '시작_대여소_ID', '종료_대여소_ID', '전체_건수', '전체_이용_분', '전체_이용_거리']\n",
      "[20230110, 0, 'ST-2321', 'ST-2321', 1, 0, 0]\n",
      "==============================================================\n",
      ".csv, tpss_bcycl_od_statnhm_20230109.csv, 147642\n",
      "['기준_날짜', '기준_시간대', '시작_대여소_ID', '종료_대여소_ID', '전체_건수', '전체_이용_분', '전체_이용_거리']\n",
      "[20230109, 0, 'ST-432', 'ST-432', 1, 0, 0]\n",
      "==============================================================\n",
      ".csv, tpss_bcycl_od_statnhm_20230119.csv, 137519\n",
      "['기준_날짜', '기준_시간대', '시작_대여소_ID', '종료_대여소_ID', '전체_건수', '전체_이용_분', '전체_이용_거리']\n",
      "[20230119, 0, 'ST-1291', 'ST-1291', 1, 0, 0]\n",
      "==============================================================\n",
      ".csv, tpss_bcycl_od_statnhm_20230118.csv, 143557\n",
      "['기준_날짜', '기준_시간대', '시작_대여소_ID', '종료_대여소_ID', '전체_건수', '전체_이용_분', '전체_이용_거리']\n",
      "[20230118, 0, 'ST-1486', 'ST-1486', 1, 0, 0]\n",
      "==============================================================\n",
      ".csv, tpss_bcycl_od_statnhm_20230117.csv, 136758\n",
      "['기준_날짜', '기준_시간대', '시작_대여소_ID', '종료_대여소_ID', '전체_건수', '전체_이용_분', '전체_이용_거리']\n",
      "[20230117, 0, 'ST-1270', 'ST-1270', 1, 0, 0]\n",
      "==============================================================\n",
      ".csv, tpss_bcycl_od_statnhm_20230116.csv, 132165\n",
      "['기준_날짜', '기준_시간대', '시작_대여소_ID', '종료_대여소_ID', '전체_건수', '전체_이용_분', '전체_이용_거리']\n",
      "[20230116, 0, 'ST-157', 'ST-157', 1, 0, 0]\n",
      "==============================================================\n",
      ".csv, tpss_bcycl_od_statnhm_20230114.csv, 51941\n",
      "['기준_날짜', '기준_시간대', '시작_대여소_ID', '종료_대여소_ID', '전체_건수', '전체_이용_분', '전체_이용_거리']\n",
      "[20230114, 0, 'ST-1339', 'ST-1339', 1, 0, 0]\n",
      "==============================================================\n",
      ".csv, tpss_bcycl_od_statnhm_20230115.csv, 46140\n",
      "['기준_날짜', '기준_시간대', '시작_대여소_ID', '종료_대여소_ID', '전체_건수', '전체_이용_분', '전체_이용_거리']\n",
      "[20230115, 0, 'ST-1714', 'ST-1714', 1, 0, 0]\n",
      "==============================================================\n",
      ".csv, tpss_bcycl_od_statnhm_20230125.csv, 78129\n",
      "['기준_날짜', '기준_시간대', '시작_대여소_ID', '종료_대여소_ID', '전체_건수', '전체_이용_분', '전체_이용_거리']\n",
      "[20230125, 0, 'ST-2168', 'ST-2168', 1, 1, 88]\n",
      "==============================================================\n",
      ".csv, tpss_bcycl_od_statnhm_20230124.csv, 31080\n",
      "['기준_날짜', '기준_시간대', '시작_대여소_ID', '종료_대여소_ID', '전체_건수', '전체_이용_분', '전체_이용_거리']\n",
      "[20230124, 0, 'ST-2995', 'ST-2995', 1, 0, 0]\n",
      "==============================================================\n",
      ".csv, tpss_bcycl_od_statnhm_20230123.csv, 60097\n",
      "['기준_날짜', '기준_시간대', '시작_대여소_ID', '종료_대여소_ID', '전체_건수', '전체_이용_분', '전체_이용_거리']\n",
      "[20230123, 0, 'ST-679', 'ST-679', 1, 0, 0]\n",
      "==============================================================\n",
      ".csv, tpss_bcycl_od_statnhm_20230122.csv, 44177\n",
      "['기준_날짜', '기준_시간대', '시작_대여소_ID', '종료_대여소_ID', '전체_건수', '전체_이용_분', '전체_이용_거리']\n",
      "[20230122, 5, 'ST-1062', 'ST-1062', 1, 0, 0]\n",
      "==============================================================\n",
      ".csv, tpss_bcycl_od_statnhm_20230120.csv, 104606\n",
      "['기준_날짜', '기준_시간대', '시작_대여소_ID', '종료_대여소_ID', '전체_건수', '전체_이용_분', '전체_이용_거리']\n",
      "[20230120, 0, 'ST-2003', 'ST-2003', 1, 0, 0]\n",
      "==============================================================\n",
      ".csv, tpss_bcycl_od_statnhm_20230121.csv, 59800\n",
      "['기준_날짜', '기준_시간대', '시작_대여소_ID', '종료_대여소_ID', '전체_건수', '전체_이용_분', '전체_이용_거리']\n",
      "[20230121, 0, 'ST-1674', 'ST-1674', 1, 1, 0]\n",
      "==============================================================\n",
      ".csv, tpss_bcycl_od_statnhm_20230131.csv, 148634\n",
      "['기준_날짜', '기준_시간대', '시작_대여소_ID', '종료_대여소_ID', '전체_건수', '전체_이용_분', '전체_이용_거리']\n",
      "[20230131, 0, 'ST-2807', 'ST-2807', 1, 0, 0]\n",
      "==============================================================\n",
      ".csv, tpss_bcycl_od_statnhm_20230130.csv, 131314\n",
      "['기준_날짜', '기준_시간대', '시작_대여소_ID', '종료_대여소_ID', '전체_건수', '전체_이용_분', '전체_이용_거리']\n",
      "[20230130, 0, 'ST-422', 'ST-422', 1, 0, 0]\n",
      "==============================================================\n",
      ".csv, tpss_bcycl_od_statnhm_20230129.csv, 75165\n",
      "['기준_날짜', '기준_시간대', '시작_대여소_ID', '종료_대여소_ID', '전체_건수', '전체_이용_분', '전체_이용_거리']\n",
      "[20230129, 0, 'ST-2797', 'ST-2797', 1, 0, 0]\n",
      "==============================================================\n",
      ".csv, tpss_bcycl_od_statnhm_20230128.csv, 71780\n",
      "['기준_날짜', '기준_시간대', '시작_대여소_ID', '종료_대여소_ID', '전체_건수', '전체_이용_분', '전체_이용_거리']\n",
      "[20230128, 0, 'ST-157', 'ST-157', 1, 0, 0]\n",
      "==============================================================\n",
      ".csv, tpss_bcycl_od_statnhm_20230126.csv, 49299\n",
      "['기준_날짜', '기준_시간대', '시작_대여소_ID', '종료_대여소_ID', '전체_건수', '전체_이용_분', '전체_이용_거리']\n",
      "[20230126, 0, 'ST-1505', 'ST-1505', 1, 0, 0]\n",
      "==============================================================\n",
      ".csv, tpss_bcycl_od_statnhm_20230127.csv, 81552\n",
      "['기준_날짜', '기준_시간대', '시작_대여소_ID', '종료_대여소_ID', '전체_건수', '전체_이용_분', '전체_이용_거리']\n",
      "[20230127, 0, 'ST-1695', 'ST-1695', 1, 0, 0]\n"
     ]
    }
   ],
   "source": [
    "path_sub = '서울시 따릉이 대여소별 대여 반납 승객수 정보/tpss_bcycl_od_statnhm_202301/'\n",
    "check_file(path_dateset, path_sub)"
   ]
  },
  {
   "cell_type": "code",
   "execution_count": 203,
   "id": "15889462-3991-43b8-abfa-c7342834cdd7",
   "metadata": {},
   "outputs": [
    {
     "name": "stderr",
     "output_type": "stream",
     "text": [
      "C:\\Users\\user\\AppData\\Local\\Temp\\ipykernel_18008\\1205792265.py:6: DtypeWarning: Columns (7,8) have mixed types. Specify dtype option on import or set low_memory=False.\n",
      "  return pd.read_csv(file_path, encoding='cp949')\n"
     ]
    }
   ],
   "source": [
    "rf = read_file('G:/내 드라이브/DataSet/서울특별시 공공자전거 이용정보(일별)/merge.csv')"
   ]
  },
  {
   "cell_type": "code",
   "execution_count": 204,
   "id": "505979ce-227a-4768-b802-b0f929767818",
   "metadata": {},
   "outputs": [
    {
     "data": {
      "text/html": [
       "<div>\n",
       "<style scoped>\n",
       "    .dataframe tbody tr th:only-of-type {\n",
       "        vertical-align: middle;\n",
       "    }\n",
       "\n",
       "    .dataframe tbody tr th {\n",
       "        vertical-align: top;\n",
       "    }\n",
       "\n",
       "    .dataframe thead th {\n",
       "        text-align: right;\n",
       "    }\n",
       "</style>\n",
       "<table border=\"1\" class=\"dataframe\">\n",
       "  <thead>\n",
       "    <tr style=\"text-align: right;\">\n",
       "      <th></th>\n",
       "      <th>대여일자</th>\n",
       "      <th>대여소번호</th>\n",
       "      <th>대여소</th>\n",
       "      <th>대여구분코드</th>\n",
       "      <th>성별</th>\n",
       "      <th>연령대</th>\n",
       "      <th>이용건수</th>\n",
       "      <th>운동량</th>\n",
       "      <th>탄소량</th>\n",
       "      <th>이동거리(M)</th>\n",
       "      <th>이용시간(분)</th>\n",
       "    </tr>\n",
       "  </thead>\n",
       "  <tbody>\n",
       "    <tr>\n",
       "      <th>33824102</th>\n",
       "      <td>2024-05-31</td>\n",
       "      <td>3505</td>\n",
       "      <td>3505. 신양초교앞 교차로</td>\n",
       "      <td>정기권</td>\n",
       "      <td>M</td>\n",
       "      <td>기타</td>\n",
       "      <td>1</td>\n",
       "      <td>368.68</td>\n",
       "      <td>2.84</td>\n",
       "      <td>12250.00</td>\n",
       "      <td>60</td>\n",
       "    </tr>\n",
       "    <tr>\n",
       "      <th>33824103</th>\n",
       "      <td>2024-05-31</td>\n",
       "      <td>502</td>\n",
       "      <td>502. 자양(뚝섬한강공원)역 1번출구 앞</td>\n",
       "      <td>정기권</td>\n",
       "      <td>M</td>\n",
       "      <td>기타</td>\n",
       "      <td>1</td>\n",
       "      <td>24.69</td>\n",
       "      <td>0.19</td>\n",
       "      <td>809.73</td>\n",
       "      <td>4</td>\n",
       "    </tr>\n",
       "    <tr>\n",
       "      <th>33824104</th>\n",
       "      <td>2024-05-31</td>\n",
       "      <td>502</td>\n",
       "      <td>502. 자양(뚝섬한강공원)역 1번출구 앞</td>\n",
       "      <td>정기권</td>\n",
       "      <td>M</td>\n",
       "      <td>기타</td>\n",
       "      <td>1</td>\n",
       "      <td>26.26</td>\n",
       "      <td>0.23</td>\n",
       "      <td>975.08</td>\n",
       "      <td>4</td>\n",
       "    </tr>\n",
       "    <tr>\n",
       "      <th>33824105</th>\n",
       "      <td>2024-05-31</td>\n",
       "      <td>724</td>\n",
       "      <td>724. 계남공원 입구 주출입구 좌측</td>\n",
       "      <td>정기권</td>\n",
       "      <td>M</td>\n",
       "      <td>기타</td>\n",
       "      <td>1</td>\n",
       "      <td>33.36</td>\n",
       "      <td>0.3</td>\n",
       "      <td>1296.03</td>\n",
       "      <td>8</td>\n",
       "    </tr>\n",
       "    <tr>\n",
       "      <th>33824106</th>\n",
       "      <td>2024-05-31</td>\n",
       "      <td>726</td>\n",
       "      <td>726. 목동3단지 시내버스정류장</td>\n",
       "      <td>정기권</td>\n",
       "      <td>M</td>\n",
       "      <td>기타</td>\n",
       "      <td>3</td>\n",
       "      <td>101.8</td>\n",
       "      <td>0.91</td>\n",
       "      <td>3908.91</td>\n",
       "      <td>22</td>\n",
       "    </tr>\n",
       "  </tbody>\n",
       "</table>\n",
       "</div>"
      ],
      "text/plain": [
       "                대여일자  대여소번호                      대여소 대여구분코드 성별 연령대   이용건수  \\\n",
       "33824102  2024-05-31   3505          3505. 신양초교앞 교차로    정기권  M  기타      1   \n",
       "33824103  2024-05-31    502  502. 자양(뚝섬한강공원)역 1번출구 앞    정기권  M  기타      1   \n",
       "33824104  2024-05-31    502  502. 자양(뚝섬한강공원)역 1번출구 앞    정기권  M  기타      1   \n",
       "33824105  2024-05-31    724     724. 계남공원 입구 주출입구 좌측    정기권  M  기타      1   \n",
       "33824106  2024-05-31    726       726. 목동3단지 시내버스정류장    정기권  M  기타      3   \n",
       "\n",
       "             운동량   탄소량   이동거리(M)  이용시간(분)  \n",
       "33824102  368.68  2.84  12250.00       60  \n",
       "33824103   24.69  0.19    809.73        4  \n",
       "33824104   26.26  0.23    975.08        4  \n",
       "33824105   33.36   0.3   1296.03        8  \n",
       "33824106   101.8  0.91   3908.91       22  "
      ]
     },
     "execution_count": 204,
     "metadata": {},
     "output_type": "execute_result"
    }
   ],
   "source": [
    "rf.tail(5)"
   ]
  },
  {
   "cell_type": "code",
   "execution_count": null,
   "id": "4a99b363-4679-4009-bb9b-312b95c7fec8",
   "metadata": {},
   "outputs": [],
   "source": [
    "len(rf)"
   ]
  }
 ],
 "metadata": {
  "kernelspec": {
   "display_name": "Python 3 (ipykernel)",
   "language": "python",
   "name": "python3"
  },
  "language_info": {
   "codemirror_mode": {
    "name": "ipython",
    "version": 3
   },
   "file_extension": ".py",
   "mimetype": "text/x-python",
   "name": "python",
   "nbconvert_exporter": "python",
   "pygments_lexer": "ipython3",
   "version": "3.12.4"
  }
 },
 "nbformat": 4,
 "nbformat_minor": 5
}
