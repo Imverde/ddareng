{
 "cells": [
  {
   "cell_type": "markdown",
   "id": "a63d1ca6-9e94-486e-b746-8a76e7a35ecb",
   "metadata": {},
   "source": [
    "### 라이브러리 임포트"
   ]
  },
  {
   "cell_type": "code",
   "execution_count": 1,
   "id": "428dc1ef-fef0-4ab9-9ad1-b285e25860d9",
   "metadata": {},
   "outputs": [],
   "source": [
    "import os\n",
    "import pandas as pd"
   ]
  },
  {
   "cell_type": "markdown",
   "id": "cca518b9-919e-4018-8542-3a8de9290fc4",
   "metadata": {},
   "source": [
    "### 기본경로 설정"
   ]
  },
  {
   "cell_type": "code",
   "execution_count": 3,
   "id": "21a2c01b-0505-4297-9ad9-30845d1d1cc8",
   "metadata": {},
   "outputs": [],
   "source": [
    "path_dateset = 'G:/내 드라이브/DataSet/'"
   ]
  },
  {
   "cell_type": "markdown",
   "id": "281e4df1-4a75-4b57-8a09-2be6063a84ea",
   "metadata": {},
   "source": [
    "### 확장자 가져오기 (Ex) .csv, .xlsx"
   ]
  },
  {
   "cell_type": "code",
   "execution_count": 5,
   "id": "e113aae7-4b38-4fc1-9119-d785be27d199",
   "metadata": {},
   "outputs": [],
   "source": [
    "def extract_extension(file_path):\n",
    "    _, file_extension = os.path.splitext(file_path)\n",
    "    return file_extension"
   ]
  },
  {
   "cell_type": "code",
   "execution_count": 7,
   "id": "6bfcb1be-e3d6-4c28-b3be-136b6f24daf6",
   "metadata": {},
   "outputs": [
    {
     "data": {
      "text/plain": [
       "'.csv'"
      ]
     },
     "execution_count": 7,
     "metadata": {},
     "output_type": "execute_result"
    }
   ],
   "source": [
    "extract_extension('G:/내 드라이브/DataSet/서울시 따릉이 대여소별 대여 반납 승객수 정보/tpss_bcycl_od_statnhm_202404.csv')"
   ]
  },
  {
   "cell_type": "markdown",
   "id": "6d321cd8-967b-427f-bad1-e185b4717b08",
   "metadata": {},
   "source": [
    "### 파일명 가져오기"
   ]
  },
  {
   "cell_type": "code",
   "execution_count": 9,
   "id": "43ae0d00-0162-4823-b7dc-1ab47ece2f19",
   "metadata": {},
   "outputs": [],
   "source": [
    "def extract_filename(file_path):\n",
    "    file_name = os.path.basename(file_path)\n",
    "    filename_without_extension, _ = os.path.splitext(file_name)\n",
    "    return filename_without_extension"
   ]
  },
  {
   "cell_type": "code",
   "execution_count": 11,
   "id": "d34538c4-8615-4adc-8c00-599f9e8d39c0",
   "metadata": {},
   "outputs": [
    {
     "data": {
      "text/plain": [
       "'tpss_bcycl_od_statnhm_202404'"
      ]
     },
     "execution_count": 11,
     "metadata": {},
     "output_type": "execute_result"
    }
   ],
   "source": [
    "extract_filename('G:/내 드라이브/DataSet/서울시 따릉이 대여소별 대여 반납 승객수 정보/tpss_bcycl_od_statnhm_202404.csv')"
   ]
  },
  {
   "cell_type": "markdown",
   "id": "613221c9-9fb4-428e-b00c-d747613572a2",
   "metadata": {},
   "source": [
    "### 파일 읽기"
   ]
  },
  {
   "cell_type": "code",
   "execution_count": 13,
   "id": "931073fe-015b-4f6f-b5c5-36e57f468c9a",
   "metadata": {},
   "outputs": [],
   "source": [
    "def read_file(file_path):\n",
    "    extension = extract_extension(file_path)\n",
    "    if \".xlsx\" == extension:\n",
    "        return pd.read_excel(file_path)\n",
    "    if \".csv\" == extension:\n",
    "        return pd.read_csv(file_path, encoding='cp949')"
   ]
  },
  {
   "cell_type": "markdown",
   "id": "97f1d7ff-d51d-4373-b5bd-5297ac79e3c1",
   "metadata": {},
   "source": [
    "### 특정 폴더의 csx, xlsx 파일들 확인"
   ]
  },
  {
   "cell_type": "code",
   "execution_count": 15,
   "id": "644066d7-f383-49e5-add6-dbf5cfbf2cba",
   "metadata": {},
   "outputs": [],
   "source": [
    "def check_file(path_dateset, path_sub):\n",
    "    path = path_dateset + path_sub\n",
    "    \n",
    "    #파일 경로명 변경\n",
    "    file_list = os.listdir(path)\n",
    "    file_lists = [file for file in file_list if file.endswith((\".csv\", \".xlsx\"))]\n",
    "    excel = pd.DataFrame()\n",
    "    \n",
    "    print('path : ', path)\n",
    "    \n",
    "    for _, file in enumerate(file_lists):\n",
    "        df = read_file(path + file)\n",
    "    \n",
    "        print('==============================================================')\n",
    "        print(extract_extension(file) + ', ' + file + ', ' + str(len(df)))\n",
    "        print(list(df.columns))\n",
    "        print(list(df.iloc[1]))"
   ]
  },
  {
   "cell_type": "markdown",
   "id": "6eb4e9bb-fce3-43e6-b13b-517e3751d72f",
   "metadata": {},
   "source": [
    "### 특정 폴더의 csx, xlsx 파일들 합치기"
   ]
  },
  {
   "cell_type": "code",
   "execution_count": 23,
   "id": "e3622b5b-599c-4cbd-8934-3e76e73d9506",
   "metadata": {},
   "outputs": [],
   "source": [
    "def merge_file(path_dateset, path_sub):\n",
    "    path = path_dateset + path_sub\n",
    "    \n",
    "    #파일 경로명 변경\n",
    "    file_list = os.listdir(path)\n",
    "    file_lists = [file for file in file_list if file.endswith((\".csv\", \".xlsx\"))]\n",
    "    excel = pd.DataFrame()\n",
    "    \n",
    "    print('path : ', path)\n",
    "    \n",
    "    for i, file in enumerate(file_lists):\n",
    "        df = read_file(path + file)\n",
    "        \n",
    "        if (i > 0):\n",
    "            df = df.iloc[1:]\n",
    "\n",
    "        # excel = excel.append(df , ignore_index=True) #파일 하나에 다른 파일 추가하기(파일 합치기)\n",
    "        excel = pd.concat([excel, df], ignore_index=True)        \n",
    "        \n",
    "        print('==============================================================')\n",
    "        print(extract_extension(file) + ', ' + file + ', ' + str(len(df)))\n",
    "        print(list(df.columns))\n",
    "\n",
    "    # excel.to_csv(path+'merge.csv',index=False,encoding='euc-kr')\n",
    "    excel.to_csv(path + new_filename + '.csv', index=False, encoding='cp949')"
   ]
  },
  {
   "cell_type": "markdown",
   "id": "0c796898-3b3c-4a59-af56-05bfb15c1d19",
   "metadata": {},
   "source": [
    "### 서울시 따릉이 대여소별 대여 반납 승객수 정보"
   ]
  },
  {
   "cell_type": "code",
   "execution_count": null,
   "id": "d89f5346-6ea9-4f67-9913-93e5848932a7",
   "metadata": {},
   "outputs": [],
   "source": [
    "path_sub = '서울시 따릉이 대여소별 대여 반납 승객수 정보/tpss_bcycl_od_statnhm_202404/'\n",
    "check_file(path_dateset, path_sub)"
   ]
  },
  {
   "cell_type": "code",
   "execution_count": null,
   "id": "15889462-3991-43b8-abfa-c7342834cdd7",
   "metadata": {},
   "outputs": [],
   "source": [
    "rf = read_file(path_dateset + path_sub + 'tpss_bcycl_od_statnhm_202404.csv')"
   ]
  },
  {
   "cell_type": "code",
   "execution_count": null,
   "id": "505979ce-227a-4768-b802-b0f929767818",
   "metadata": {},
   "outputs": [],
   "source": [
    "rf.tail(5)"
   ]
  },
  {
   "cell_type": "code",
   "execution_count": null,
   "id": "4a99b363-4679-4009-bb9b-312b95c7fec8",
   "metadata": {},
   "outputs": [],
   "source": [
    "len(rf)"
   ]
  },
  {
   "cell_type": "code",
   "execution_count": null,
   "id": "9c84934f-0a9f-47a2-b8f6-4a636f8c7524",
   "metadata": {},
   "outputs": [],
   "source": []
  }
 ],
 "metadata": {
  "kernelspec": {
   "display_name": "Python 3 (ipykernel)",
   "language": "python",
   "name": "python3"
  },
  "language_info": {
   "codemirror_mode": {
    "name": "ipython",
    "version": 3
   },
   "file_extension": ".py",
   "mimetype": "text/x-python",
   "name": "python",
   "nbconvert_exporter": "python",
   "pygments_lexer": "ipython3",
   "version": "3.12.4"
  }
 },
 "nbformat": 4,
 "nbformat_minor": 5
}
